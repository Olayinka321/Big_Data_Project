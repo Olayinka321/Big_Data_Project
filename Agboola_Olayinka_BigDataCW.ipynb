{
  "nbformat": 4,
  "nbformat_minor": 0,
  "metadata": {
    "colab": {
      "provenance": [],
      "authorship_tag": "ABX9TyOzdsT+Z0bZA5w4sbGTKNKF",
      "include_colab_link": true
    },
    "kernelspec": {
      "name": "python3",
      "display_name": "Python 3"
    },
    "language_info": {
      "name": "python"
    }
  },
  "cells": [
    {
      "cell_type": "markdown",
      "metadata": {
        "id": "view-in-github",
        "colab_type": "text"
      },
      "source": [
        "<a href=\"https://colab.research.google.com/github/Olayinka321/Big_Data_Project/blob/main/Agboola_Olayinka_BigDataCW.ipynb\" target=\"_parent\"><img src=\"https://colab.research.google.com/assets/colab-badge.svg\" alt=\"Open In Colab\"/></a>"
      ]
    },
    {
      "cell_type": "code",
      "execution_count": null,
      "metadata": {
        "colab": {
          "base_uri": "https://localhost:8080/"
        },
        "id": "rFeW7waPy5iW",
        "outputId": "4357ba34-bd16-431c-f065-ab66f4afd273"
      },
      "outputs": [
        {
          "output_type": "stream",
          "name": "stdout",
          "text": [
            "Collecting pyspark==3.0.0\n",
            "  Downloading pyspark-3.0.0.tar.gz (204.7 MB)\n",
            "\u001b[2K     \u001b[90m━━━━━━━━━━━━━━━━━━━━━━━━━━━━━━━━━━━━━━━\u001b[0m \u001b[32m204.7/204.7 MB\u001b[0m \u001b[31m5.3 MB/s\u001b[0m eta \u001b[36m0:00:00\u001b[0m\n",
            "\u001b[?25h  Preparing metadata (setup.py) ... \u001b[?25l\u001b[?25hdone\n",
            "Collecting py4j==0.10.9 (from pyspark==3.0.0)\n",
            "  Downloading py4j-0.10.9-py2.py3-none-any.whl (198 kB)\n",
            "\u001b[2K     \u001b[90m━━━━━━━━━━━━━━━━━━━━━━━━━━━━━━━━━━━━━━\u001b[0m \u001b[32m198.6/198.6 kB\u001b[0m \u001b[31m25.7 MB/s\u001b[0m eta \u001b[36m0:00:00\u001b[0m\n",
            "\u001b[?25hBuilding wheels for collected packages: pyspark\n",
            "  Building wheel for pyspark (setup.py) ... \u001b[?25l\u001b[?25hdone\n",
            "  Created wheel for pyspark: filename=pyspark-3.0.0-py2.py3-none-any.whl size=205044161 sha256=de36a87857c8e6ef6f9cf735bc533cf97d4522de20f5a1b1a020ebead3561393\n",
            "  Stored in directory: /root/.cache/pip/wheels/b1/bb/8b/ca24d3f756f2ed967225b0871898869db676eb5846df5adc56\n",
            "Successfully built pyspark\n",
            "Installing collected packages: py4j, pyspark\n",
            "  Attempting uninstall: py4j\n",
            "    Found existing installation: py4j 0.10.9.7\n",
            "    Uninstalling py4j-0.10.9.7:\n",
            "      Successfully uninstalled py4j-0.10.9.7\n",
            "Successfully installed py4j-0.10.9 pyspark-3.0.0\n"
          ]
        }
      ],
      "source": [
        "#!pip uninstall pyspark -y\n",
        "!pip install pyspark==3.0.0\n"
      ]
    },
    {
      "cell_type": "code",
      "source": [
        "!pip install findspark\n"
      ],
      "metadata": {
        "colab": {
          "base_uri": "https://localhost:8080/"
        },
        "id": "3ETwAtwuy8JP",
        "outputId": "cf207569-2003-4836-f639-709f88c8087e"
      },
      "execution_count": null,
      "outputs": [
        {
          "output_type": "stream",
          "name": "stdout",
          "text": [
            "Collecting findspark\n",
            "  Downloading findspark-2.0.1-py2.py3-none-any.whl (4.4 kB)\n",
            "Installing collected packages: findspark\n",
            "Successfully installed findspark-2.0.1\n"
          ]
        }
      ]
    },
    {
      "cell_type": "code",
      "source": [
        "import findspark\n",
        "findspark.init()\n",
        "\n",
        "from pyspark.sql import SparkSession\n",
        "spark = SparkSession.builder.master(\"local[*]\").appName(\"global_terrorism\").getOrCreate()\n"
      ],
      "metadata": {
        "id": "5vmHpxOkzq-L"
      },
      "execution_count": null,
      "outputs": []
    },
    {
      "cell_type": "code",
      "source": [
        "csv_path ='/content/sample_data/global_terrorism.csv'\n",
        "\n",
        "df = spark.read.csv(csv_path, header=True, inferSchema=True)\n",
        "df.head()\n",
        "df.show(10)"
      ],
      "metadata": {
        "colab": {
          "base_uri": "https://localhost:8080/"
        },
        "id": "f18P3VIO0MwJ",
        "outputId": "89e4c1d8-4450-43ce-ced3-1d6f0206e0f8"
      },
      "execution_count": null,
      "outputs": [
        {
          "output_type": "stream",
          "name": "stdout",
          "text": [
            "+----------+-----+------+----+----------+--------+----------+-------+------------------+------+--------------------+----------+-------------+----------+-----------+-----------+--------+---------------+--------------------+-----+-----+-----+---------+-----------+----------------+--------+-------+-------+-----------+--------------------+-----------+---------------+-----------+---------------+---------+--------------------+------------+--------------------+--------------------+--------------------+-------+------------------+---------+-------------+------------+----------------+-----+-------+-------+-----------+---------+-------------+------------+----------------+-----+-------+-------+-----------+--------------------+--------+------+---------+------+---------+--------------------+-----------+-----------+-----------+----------+------+--------+-------+---------+-------------+------+----------+--------------+------+----------+--------------+---------+---------+-------------+------------+--------------------+---------+-------------+------------+----------------+---------+-------------+------------+----------------+---------+-------------+------------+----------------+--------------------+-----+-------+--------+------+--------+--------+--------+----------+--------------------+---------+--------------------+---------+--------+----------+------+-----+------+-------------+------+---------+-----------+----------+------------+----------+--------------+------------------+---------+--------------------+--------------------+--------------------+--------------------+--------------------+--------------------+----------------+--------------------+--------------------+--------------------+\n",
            "|   eventid|iyear|imonth|iday|approxdate|extended|resolution|country|       country_txt|region|          region_txt| provstate|         city|  latitude|  longitude|specificity|vicinity|       location|             summary|crit1|crit2|crit3|doubtterr|alternative| alternative_txt|multiple|success|suicide|attacktype1|     attacktype1_txt|attacktype2|attacktype2_txt|attacktype3|attacktype3_txt|targtype1|       targtype1_txt|targsubtype1|    targsubtype1_txt|               corp1|             target1|natlty1|       natlty1_txt|targtype2|targtype2_txt|targsubtype2|targsubtype2_txt|corp2|target2|natlty2|natlty2_txt|targtype3|targtype3_txt|targsubtype3|targsubtype3_txt|corp3|target3|natlty3|natlty3_txt|               gname|gsubname|gname2|gsubname2|gname3|gsubname3|              motive|guncertain1|guncertain2|guncertain3|individual|nperps|nperpcap|claimed|claimmode|claimmode_txt|claim2|claimmode2|claimmode2_txt|claim3|claimmode3|claimmode3_txt|compclaim|weaptype1|weaptype1_txt|weapsubtype1|    weapsubtype1_txt|weaptype2|weaptype2_txt|weapsubtype2|weapsubtype2_txt|weaptype3|weaptype3_txt|weapsubtype3|weapsubtype3_txt|weaptype4|weaptype4_txt|weapsubtype4|weapsubtype4_txt|          weapdetail|nkill|nkillus|nkillter|nwound|nwoundus|nwoundte|property|propextent|      propextent_txt|propvalue|         propcomment|ishostkid|nhostkid|nhostkidus|nhours|ndays|divert|kidhijcountry|ransom|ransomamt|ransomamtus|ransompaid|ransompaidus|ransomnote|hostkidoutcome|hostkidoutcome_txt|nreleased|            addnotes|              scite1|              scite2|              scite3|            dbsource|             INT_LOG|        INT_IDEO|            INT_MISC|             INT_ANY|             related|\n",
            "+----------+-----+------+----+----------+--------+----------+-------+------------------+------+--------------------+----------+-------------+----------+-----------+-----------+--------+---------------+--------------------+-----+-----+-----+---------+-----------+----------------+--------+-------+-------+-----------+--------------------+-----------+---------------+-----------+---------------+---------+--------------------+------------+--------------------+--------------------+--------------------+-------+------------------+---------+-------------+------------+----------------+-----+-------+-------+-----------+---------+-------------+------------+----------------+-----+-------+-------+-----------+--------------------+--------+------+---------+------+---------+--------------------+-----------+-----------+-----------+----------+------+--------+-------+---------+-------------+------+----------+--------------+------+----------+--------------+---------+---------+-------------+------------+--------------------+---------+-------------+------------+----------------+---------+-------------+------------+----------------+---------+-------------+------------+----------------+--------------------+-----+-------+--------+------+--------+--------+--------+----------+--------------------+---------+--------------------+---------+--------+----------+------+-----+------+-------------+------+---------+-----------+----------+------------+----------+--------------+------------------+---------+--------------------+--------------------+--------------------+--------------------+--------------------+--------------------+----------------+--------------------+--------------------+--------------------+\n",
            "|   1.97E11| 1970|     7|   2|      null|       0|      null|     58|Dominican Republic|     2|Central America &...|      null|Santo Domingo| 18.456792| -69.951164|          1|       0|           null|                null|    1|    1|    1|        0|       null|            null|       0|      1|      0|          1|       Assassination|       null|           null|       null|           null|       14|Private Citizens ...|          68|      Named Civilian|                null|        Julio Guzman|     58|Dominican Republic|     null|         null|        null|            null| null|   null|   null|       null|     null|         null|        null|            null| null|   null|   null|       null|              MANO-D|    null|  null|     null|  null|     null|                null|          0|       null|       null|         0|  null|    null|   null|     null|         null|  null|      null|          null|  null|      null|          null|     null|       13|      Unknown|        null|                null|     null|         null|        null|            null|     null|         null|        null|            null|     null|         null|        null|            null|                null|    1|   null|    null|     0|    null|    null|       0|      null|                null|     null|                null|        0|    null|      null|  null| null|  null|         null|     0|     null|       null|      null|        null|      null|          null|              null|     null|                null|                null|                null|                null|                PGIS|                   0|               0|                   0|                   0|                null|\n",
            "|   1.97E11| 1970|     0|   0|      null|       0|      null|    130|            Mexico|     1|       North America|   Federal|  Mexico city| 19.371887| -99.086624|          1|       0|           null|                null|    1|    1|    1|        0|       null|            null|       0|      1|      0|          6|Hostage Taking (K...|       null|           null|       null|           null|        7|Government (Diplo...|          45|Diplomatic Person...|Belgian Ambassado...|Nadine Chaval, da...|     21|           Belgium|     null|         null|        null|            null| null|   null|   null|       null|     null|         null|        null|            null| null|   null|   null|       null|23rd of September...|    null|  null|     null|  null|     null|                null|          0|       null|       null|         0|     7|    null|   null|     null|         null|  null|      null|          null|  null|      null|          null|     null|       13|      Unknown|        null|                null|     null|         null|        null|            null|     null|         null|        null|            null|     null|         null|        null|            null|                null|    0|   null|    null|     0|    null|    null|       0|      null|                null|     null|                null|        1|       1|         0|  null| null|  null|       Mexico|     1|   800000|       null|      null|        null|      null|          null|              null|     null|                null|                null|                null|                null|                PGIS|                   0|               1|                   1|                   1|                null|\n",
            "|1.97001E11| 1970|     1|   0|      null|       0|      null|    160|       Philippines|     5|      Southeast Asia|    Tarlac|      Unknown| 15.478598| 120.599741|          4|       0|           null|                null|    1|    1|    1|        0|       null|            null|       0|      1|      0|          1|       Assassination|       null|           null|       null|           null|       10| Journalists & Media|          54|Radio Journalist/...|    Voice of America|            Employee|    217|     United States|     null|         null|        null|            null| null|   null|   null|       null|     null|         null|        null|            null| null|   null|   null|       null|             Unknown|    null|  null|     null|  null|     null|                null|          0|       null|       null|         0|  null|    null|   null|     null|         null|  null|      null|          null|  null|      null|          null|     null|       13|      Unknown|        null|                null|     null|         null|        null|            null|     null|         null|        null|            null|     null|         null|        null|            null|                null|    1|   null|    null|     0|    null|    null|       0|      null|                null|     null|                null|        0|    null|      null|  null| null|  null|         null|     0|     null|       null|      null|        null|      null|          null|              null|     null|                null|                null|                null|                null|                PGIS|                  -9|              -9|                   1|                   1|                null|\n",
            "|1.97001E11| 1970|     1|   0|      null|       0|      null|     78|            Greece|     8|      Western Europe|    Attica|       Athens|  37.99749|  23.762728|          1|       0|           null|                null|    1|    1|    1|        0|       null|            null|       0|      1|      0|          3|   Bombing/Explosion|       null|           null|       null|           null|        7|Government (Diplo...|          46|   Embassy/Consulate|                null|        U.S. Embassy|    217|     United States|     null|         null|        null|            null| null|   null|   null|       null|     null|         null|        null|            null| null|   null|   null|       null|             Unknown|    null|  null|     null|  null|     null|                null|          0|       null|       null|         0|  null|    null|   null|     null|         null|  null|      null|          null|  null|      null|          null|     null|        6|   Explosives|          16|Unknown Explosive...|     null|         null|        null|            null|     null|         null|        null|            null|     null|         null|        null|            null|           Explosive| null|   null|    null|  null|    null|    null|       1|      null|                null|     null|                null|        0|    null|      null|  null| null|  null|         null|     0|     null|       null|      null|        null|      null|          null|              null|     null|                null|                null|                null|                null|                PGIS|                  -9|              -9|                   1|                   1|                null|\n",
            "|1.97001E11| 1970|     1|   0|      null|       0|      null|    101|             Japan|     4|           East Asia|   Fukouka|      Fukouka| 33.580412| 130.396361|          1|       0|           null|                null|    1|    1|    1|       -9|       null|            null|       0|      1|      0|          7|Facility/Infrastr...|       null|           null|       null|           null|        7|Government (Diplo...|          46|   Embassy/Consulate|                null|      U.S. Consulate|    217|     United States|     null|         null|        null|            null| null|   null|   null|       null|     null|         null|        null|            null| null|   null|   null|       null|             Unknown|    null|  null|     null|  null|     null|                null|          0|       null|       null|         0|  null|    null|   null|     null|         null|  null|      null|          null|  null|      null|          null|     null|        8|   Incendiary|        null|                null|     null|         null|        null|            null|     null|         null|        null|            null|     null|         null|        null|            null|          Incendiary| null|   null|    null|  null|    null|    null|       1|      null|                null|     null|                null|        0|    null|      null|  null| null|  null|         null|     0|     null|       null|      null|        null|      null|          null|              null|     null|                null|                null|                null|                null|                PGIS|                  -9|              -9|                   1|                   1|                null|\n",
            "|1.97001E11| 1970|     1|   1|      null|       0|      null|    217|     United States|     1|       North America|  Illinois|        Cairo| 37.005105| -89.176269|          1|       0|           null|1/1/1970: Unknown...|    1|    1|    1|        0|       null|            null|       0|      1|      0|          2|       Armed Assault|       null|           null|       null|           null|        3|              Police|          22|Police Building (...|Cairo Police Depa...|Cairo Police Head...|    217|     United States|     null|         null|        null|            null| null|   null|   null|       null|     null|         null|        null|            null| null|   null|   null|       null|  Black Nationalists|    null|  null|     null|  null|     null|To protest the Ca...|          0|       null|       null|         0|   -99|     -99|      0|     null|         null|  null|      null|          null|  null|      null|          null|     null|        5|     Firearms|           5|    Unknown Gun Type|     null|         null|        null|            null|     null|         null|        null|            null|     null|         null|        null|            null|Several gunshots ...|    0|      0|       0|     0|       0|       0|       1|         3|Minor (likely < $...|     null|                null|        0|    null|      null|  null| null|  null|         null|     0|     null|       null|      null|        null|      null|          null|              null|     null|The Cairo Chief o...|\"\"\"Police Chief Q...|  \"\" Washington Post|           January 2|              1970.\"|\"\"\"Cairo Police C...|\"\" Afro-American|          January 10|              1970.\"|\"Christopher Hewi...|\n",
            "|1.97001E11| 1970|     1|   2|      null|       0|      null|    218|           Uruguay|     3|       South America|Montevideo|   Montevideo|-34.891151| -56.187214|          1|       0|           null|                null|    1|    1|    1|        0|       null|            null|       0|      0|      0|          1|       Assassination|       null|           null|       null|           null|        3|              Police|          25|Police Security F...|    Uruguayan Police|Juan Maria de Luc...|    218|           Uruguay|     null|         null|        null|            null| null|   null|   null|       null|     null|         null|        null|            null| null|   null|   null|       null| Tupamaros (Uruguay)|    null|  null|     null|  null|     null|                null|          0|       null|       null|         0|     3|    null|   null|     null|         null|  null|      null|          null|  null|      null|          null|     null|        5|     Firearms|           2|Automatic or Semi...|     null|         null|        null|            null|     null|         null|        null|            null|     null|         null|        null|            null|   Automatic firearm|    0|   null|    null|     0|    null|    null|       0|      null|                null|     null|                null|        0|    null|      null|  null| null|  null|         null|     0|     null|       null|      null|        null|      null|          null|              null|     null|                null|                null|                null|                null|                PGIS|                   0|               0|                   0|                   0|                null|\n",
            "|1.97001E11| 1970|     1|   2|      null|       0|      null|    217|     United States|     1|       North America|California|      Oakland| 37.791927|-122.225906|          1|       0|Edes Substation|1/2/1970: Unknown...|    1|    1|    1|        1|          2|Other Crime Type|       0|      1|      0|          3|   Bombing/Explosion|       null|           null|       null|           null|       21|           Utilities|         107|         Electricity|Pacific Gas & Ele...|     Edes Substation|    217|     United States|     null|         null|        null|            null| null|   null|   null|       null|     null|         null|        null|            null| null|   null|   null|       null|             Unknown|    null|  null|     null|  null|     null|                null|          0|       null|       null|         0|   -99|     -99|      0|     null|         null|  null|      null|          null|  null|      null|          null|     null|        6|   Explosives|          16|Unknown Explosive...|     null|         null|        null|            null|     null|         null|        null|            null|     null|         null|        null|            null|                null|    0|      0|       0|     0|       0|       0|       1|         3|Minor (likely < $...|    22500|Three transformer...|        0|    null|      null|  null| null|  null|         null|     0|     null|       null|      null|        null|      null|          null|              null|     null|Damages were esti...|\"Committee on Gov...|               Civil| and Criminal Dis...|\"\" U.S. Governmen...|            August 6|          1970.\"|\"Christopher Hewi...|\"\" Praeger Securi...|              2005.\"|\n",
            "|1.97001E11| 1970|     1|   2|      null|       0|      null|    217|     United States|     1|       North America| Wisconsin|      Madison| 43.076592| -89.412488|          1|       0|           null|1/2/1970: Karl Ar...|    1|    1|    1|        0|       null|            null|       0|      1|      0|          7|Facility/Infrastr...|       null|           null|       null|           null|        4|            Military|          28|Military Recruiti...|            R.O.T.C.|R.O.T.C. offices ...|    217|     United States|     null|         null|        null|            null| null|   null|   null|       null|     null|         null|        null|            null| null|   null|   null|       null|     New Year's Gang|    null|  null|     null|  null|     null|To protest the Wa...|          0|       null|       null|         0|     1|       1|      1|        1|       Letter|  null|      null|          null|  null|      null|          null|     null|        8|   Incendiary|          19|Molotov Cocktail/...|     null|         null|        null|            null|     null|         null|        null|            null|     null|         null|        null|            null|Firebomb consisti...|    0|      0|       0|     0|       0|       0|       1|         3|Minor (likely < $...|    60000|Basketball courts...|        0|    null|      null|  null| null|  null|         null|     0|     null|       null|      null|        null|      null|          null|              null|     null|The New Years Gan...|\"Tom Bates, \"\"Rad...|\"\" HarperCollinsP...|              1992.\"|\"David Newman, Sa...| Heard and Won't ...| \"\" Mother Jones|      February-March|              1979.\"|\"The Wisconsin Ca...|\n",
            "|1.97001E11| 1970|     1|   3|      null|       0|      null|    217|     United States|     1|       North America| Wisconsin|      Madison|  43.07295| -89.386694|          1|       0|           null|1/3/1970: Karl Ar...|    1|    1|    1|        0|       null|            null|       0|      1|      0|          7|Facility/Infrastr...|       null|           null|       null|           null|        2|Government (General)|          21|Government Buildi...|   Selective Service|Selective Service...|    217|     United States|     null|         null|        null|            null| null|   null|   null|       null|     null|         null|        null|            null| null|   null|   null|       null|     New Year's Gang|    null|  null|     null|  null|     null|To protest the Wa...|          0|       null|       null|         0|     1|       1|      0|     null|         null|  null|      null|          null|  null|      null|          null|     null|        8|   Incendiary|          20| Gasoline or Alcohol|     null|         null|        null|            null|     null|         null|        null|            null|     null|         null|        null|            null|Poured gasoline o...|    0|      0|       0|     0|       0|       0|       1|         3|Minor (likely < $...|     null|       Slight damage|        0|    null|      null|  null| null|  null|         null|     0|     null|       null|      null|        null|      null|          null|              null|     null|Karl Armstrong's ...|\"Committee on Gov...|               Civil| and Criminal Dis...|\"\" U.S. Governmen...|            August 6|          1970.\"|\"Tom Bates, \"\"Rad...|\"\" HarperCollinsP...|              1992.\"|\n",
            "+----------+-----+------+----+----------+--------+----------+-------+------------------+------+--------------------+----------+-------------+----------+-----------+-----------+--------+---------------+--------------------+-----+-----+-----+---------+-----------+----------------+--------+-------+-------+-----------+--------------------+-----------+---------------+-----------+---------------+---------+--------------------+------------+--------------------+--------------------+--------------------+-------+------------------+---------+-------------+------------+----------------+-----+-------+-------+-----------+---------+-------------+------------+----------------+-----+-------+-------+-----------+--------------------+--------+------+---------+------+---------+--------------------+-----------+-----------+-----------+----------+------+--------+-------+---------+-------------+------+----------+--------------+------+----------+--------------+---------+---------+-------------+------------+--------------------+---------+-------------+------------+----------------+---------+-------------+------------+----------------+---------+-------------+------------+----------------+--------------------+-----+-------+--------+------+--------+--------+--------+----------+--------------------+---------+--------------------+---------+--------+----------+------+-----+------+-------------+------+---------+-----------+----------+------------+----------+--------------+------------------+---------+--------------------+--------------------+--------------------+--------------------+--------------------+--------------------+----------------+--------------------+--------------------+--------------------+\n",
            "only showing top 10 rows\n",
            "\n"
          ]
        }
      ]
    },
    {
      "cell_type": "code",
      "source": [
        "#to check number of rows\n",
        "df.count()"
      ],
      "metadata": {
        "colab": {
          "base_uri": "https://localhost:8080/"
        },
        "id": "mKs7gOD9i-Nz",
        "outputId": "ee06d9f5-c211-4ed7-b88a-f527f6a64890"
      },
      "execution_count": null,
      "outputs": [
        {
          "output_type": "execute_result",
          "data": {
            "text/plain": [
              "181691"
            ]
          },
          "metadata": {},
          "execution_count": 5
        }
      ]
    },
    {
      "cell_type": "code",
      "source": [
        "#To check number of columns\n",
        "len(df.columns)"
      ],
      "metadata": {
        "colab": {
          "base_uri": "https://localhost:8080/"
        },
        "id": "B66aakK7jKVe",
        "outputId": "007a9dc9-9955-42b8-829d-97daa60bdc68"
      },
      "execution_count": null,
      "outputs": [
        {
          "output_type": "execute_result",
          "data": {
            "text/plain": [
              "135"
            ]
          },
          "metadata": {},
          "execution_count": 6
        }
      ]
    },
    {
      "cell_type": "code",
      "source": [
        "#Data Preprocessing\n",
        "\n",
        "import pyspark.sql.functions as F\n",
        "from pyspark.mllib.stat import Statistics\n",
        "\n",
        "# Drop the columns\n",
        "df = df.drop('approxdate','resolution','attacktype3','target2','corp2')\n",
        "df = df.drop('ransomamt','ransompaid','ransompaidus','ransomamtus')\n",
        "df = df.drop('ransomnote','nreleased','hostkidoutcome','hostkidoutcome_txt')\n",
        "df = df.drop('attacktype3_txt','targtype','targsubtype','natlty2','natlty3')\n",
        "df = df.drop('gname2','gsubname3','claimmode','claimmode2_txt','nhours')\n",
        "df = df.drop('natlty3_txt','gsubname','claimmode_txt','weaptype2','ndays')\n",
        "df = df.drop('nhostkidus','weaptype2_txt','claim2','gsubname2','gname3')\n",
        "df = df.drop('weapsubtype2_txt','weapsubtype2','targtype2_txt','targsubtype2_txt')\n",
        "df = df.drop('weapsubtype3_txt','weapsubtype3','weaptype3','weaptype3_txt')\n",
        "df = df.drop('weapsubtype4_txt','weapsubtype4','weaptype4','weaptype4_txt')\n",
        "df = df.drop('targtype2','targsubtype2','location','natlty2_txt','targtype3','targtype3_txt')\n",
        "df = df.drop('claimed','claimmode2','claim3','claimmode3')\n",
        "df = df.drop('claimmode3_txt','compclaim','attacktype2','attacktype2_txt')\n",
        "df = df.drop('alternative','alternative_txt','guncertain1','guncertain2')\n",
        "df = df.drop('guncertain3','propextent','propextent_txt','propvalue')\n",
        "df = df.drop('propcomment','ishostkid','extended','nhostkid','divert','kidhijcountry')\n",
        "df = df.drop('targsubtype3','targsubtype3_txt','corp3','target3')\n",
        "\n",
        "\n",
        "\n",
        "# Check for empty cells\n",
        "#print(df.filter(F.col(\"nkill\").isNull()).count())\n",
        "\n",
        "# Ignore empty cells\n",
        "#df = df.filter(F.col(\"nkill\").isNotNull())\n",
        "#means = Statistics.colMeans(df.toDF())\n",
        "#df = df.fillna(means)\n",
        "#means = df.stat.get_column_means()\n",
        "#df = df.fillna(means)\n",
        "# Impute empty cells with the column means\n",
        "#df = df.fillna(df.stat.colMeans())\n",
        "\n",
        "# Drop rows with empty cells\n",
        "#df = df.na.drop()\n",
        "\n",
        "\n",
        "# Show the first 10 rows of the DataFrame after dropping missing data\n",
        "df.show(10)"
      ],
      "metadata": {
        "colab": {
          "base_uri": "https://localhost:8080/"
        },
        "id": "74W9mODs5jP1",
        "outputId": "dd6f31d1-9138-4ae3-b31f-3448aaa6e1b1"
      },
      "execution_count": null,
      "outputs": [
        {
          "output_type": "stream",
          "name": "stdout",
          "text": [
            "+----------+-----+------+----+-------+------------------+------+--------------------+----------+-------------+----------+-----------+-----------+--------+--------------------+-----+-----+-----+---------+--------+-------+-------+-----------+--------------------+---------+--------------------+------------+--------------------+--------------------+--------------------+-------+------------------+--------------------+--------------------+----------+------+--------+---------+-------------+------------+--------------------+--------------------+-----+-------+--------+------+--------+--------+--------+------+--------------------+--------------------+--------------------+--------------------+--------------------+--------------------+----------------+--------------------+--------------------+--------------------+\n",
            "|   eventid|iyear|imonth|iday|country|       country_txt|region|          region_txt| provstate|         city|  latitude|  longitude|specificity|vicinity|             summary|crit1|crit2|crit3|doubtterr|multiple|success|suicide|attacktype1|     attacktype1_txt|targtype1|       targtype1_txt|targsubtype1|    targsubtype1_txt|               corp1|             target1|natlty1|       natlty1_txt|               gname|              motive|individual|nperps|nperpcap|weaptype1|weaptype1_txt|weapsubtype1|    weapsubtype1_txt|          weapdetail|nkill|nkillus|nkillter|nwound|nwoundus|nwoundte|property|ransom|            addnotes|              scite1|              scite2|              scite3|            dbsource|             INT_LOG|        INT_IDEO|            INT_MISC|             INT_ANY|             related|\n",
            "+----------+-----+------+----+-------+------------------+------+--------------------+----------+-------------+----------+-----------+-----------+--------+--------------------+-----+-----+-----+---------+--------+-------+-------+-----------+--------------------+---------+--------------------+------------+--------------------+--------------------+--------------------+-------+------------------+--------------------+--------------------+----------+------+--------+---------+-------------+------------+--------------------+--------------------+-----+-------+--------+------+--------+--------+--------+------+--------------------+--------------------+--------------------+--------------------+--------------------+--------------------+----------------+--------------------+--------------------+--------------------+\n",
            "|   1.97E11| 1970|     7|   2|     58|Dominican Republic|     2|Central America &...|      null|Santo Domingo| 18.456792| -69.951164|          1|       0|                null|    1|    1|    1|        0|       0|      1|      0|          1|       Assassination|       14|Private Citizens ...|          68|      Named Civilian|                null|        Julio Guzman|     58|Dominican Republic|              MANO-D|                null|         0|  null|    null|       13|      Unknown|        null|                null|                null|    1|   null|    null|     0|    null|    null|       0|     0|                null|                null|                null|                null|                PGIS|                   0|               0|                   0|                   0|                null|\n",
            "|   1.97E11| 1970|     0|   0|    130|            Mexico|     1|       North America|   Federal|  Mexico city| 19.371887| -99.086624|          1|       0|                null|    1|    1|    1|        0|       0|      1|      0|          6|Hostage Taking (K...|        7|Government (Diplo...|          45|Diplomatic Person...|Belgian Ambassado...|Nadine Chaval, da...|     21|           Belgium|23rd of September...|                null|         0|     7|    null|       13|      Unknown|        null|                null|                null|    0|   null|    null|     0|    null|    null|       0|     1|                null|                null|                null|                null|                PGIS|                   0|               1|                   1|                   1|                null|\n",
            "|1.97001E11| 1970|     1|   0|    160|       Philippines|     5|      Southeast Asia|    Tarlac|      Unknown| 15.478598| 120.599741|          4|       0|                null|    1|    1|    1|        0|       0|      1|      0|          1|       Assassination|       10| Journalists & Media|          54|Radio Journalist/...|    Voice of America|            Employee|    217|     United States|             Unknown|                null|         0|  null|    null|       13|      Unknown|        null|                null|                null|    1|   null|    null|     0|    null|    null|       0|     0|                null|                null|                null|                null|                PGIS|                  -9|              -9|                   1|                   1|                null|\n",
            "|1.97001E11| 1970|     1|   0|     78|            Greece|     8|      Western Europe|    Attica|       Athens|  37.99749|  23.762728|          1|       0|                null|    1|    1|    1|        0|       0|      1|      0|          3|   Bombing/Explosion|        7|Government (Diplo...|          46|   Embassy/Consulate|                null|        U.S. Embassy|    217|     United States|             Unknown|                null|         0|  null|    null|        6|   Explosives|          16|Unknown Explosive...|           Explosive| null|   null|    null|  null|    null|    null|       1|     0|                null|                null|                null|                null|                PGIS|                  -9|              -9|                   1|                   1|                null|\n",
            "|1.97001E11| 1970|     1|   0|    101|             Japan|     4|           East Asia|   Fukouka|      Fukouka| 33.580412| 130.396361|          1|       0|                null|    1|    1|    1|       -9|       0|      1|      0|          7|Facility/Infrastr...|        7|Government (Diplo...|          46|   Embassy/Consulate|                null|      U.S. Consulate|    217|     United States|             Unknown|                null|         0|  null|    null|        8|   Incendiary|        null|                null|          Incendiary| null|   null|    null|  null|    null|    null|       1|     0|                null|                null|                null|                null|                PGIS|                  -9|              -9|                   1|                   1|                null|\n",
            "|1.97001E11| 1970|     1|   1|    217|     United States|     1|       North America|  Illinois|        Cairo| 37.005105| -89.176269|          1|       0|1/1/1970: Unknown...|    1|    1|    1|        0|       0|      1|      0|          2|       Armed Assault|        3|              Police|          22|Police Building (...|Cairo Police Depa...|Cairo Police Head...|    217|     United States|  Black Nationalists|To protest the Ca...|         0|   -99|     -99|        5|     Firearms|           5|    Unknown Gun Type|Several gunshots ...|    0|      0|       0|     0|       0|       0|       1|     0|The Cairo Chief o...|\"\"\"Police Chief Q...|  \"\" Washington Post|           January 2|              1970.\"|\"\"\"Cairo Police C...|\"\" Afro-American|          January 10|              1970.\"|\"Christopher Hewi...|\n",
            "|1.97001E11| 1970|     1|   2|    218|           Uruguay|     3|       South America|Montevideo|   Montevideo|-34.891151| -56.187214|          1|       0|                null|    1|    1|    1|        0|       0|      0|      0|          1|       Assassination|        3|              Police|          25|Police Security F...|    Uruguayan Police|Juan Maria de Luc...|    218|           Uruguay| Tupamaros (Uruguay)|                null|         0|     3|    null|        5|     Firearms|           2|Automatic or Semi...|   Automatic firearm|    0|   null|    null|     0|    null|    null|       0|     0|                null|                null|                null|                null|                PGIS|                   0|               0|                   0|                   0|                null|\n",
            "|1.97001E11| 1970|     1|   2|    217|     United States|     1|       North America|California|      Oakland| 37.791927|-122.225906|          1|       0|1/2/1970: Unknown...|    1|    1|    1|        1|       0|      1|      0|          3|   Bombing/Explosion|       21|           Utilities|         107|         Electricity|Pacific Gas & Ele...|     Edes Substation|    217|     United States|             Unknown|                null|         0|   -99|     -99|        6|   Explosives|          16|Unknown Explosive...|                null|    0|      0|       0|     0|       0|       0|       1|     0|Damages were esti...|\"Committee on Gov...|               Civil| and Criminal Dis...|\"\" U.S. Governmen...|            August 6|          1970.\"|\"Christopher Hewi...|\"\" Praeger Securi...|              2005.\"|\n",
            "|1.97001E11| 1970|     1|   2|    217|     United States|     1|       North America| Wisconsin|      Madison| 43.076592| -89.412488|          1|       0|1/2/1970: Karl Ar...|    1|    1|    1|        0|       0|      1|      0|          7|Facility/Infrastr...|        4|            Military|          28|Military Recruiti...|            R.O.T.C.|R.O.T.C. offices ...|    217|     United States|     New Year's Gang|To protest the Wa...|         0|     1|       1|        8|   Incendiary|          19|Molotov Cocktail/...|Firebomb consisti...|    0|      0|       0|     0|       0|       0|       1|     0|The New Years Gan...|\"Tom Bates, \"\"Rad...|\"\" HarperCollinsP...|              1992.\"|\"David Newman, Sa...| Heard and Won't ...| \"\" Mother Jones|      February-March|              1979.\"|\"The Wisconsin Ca...|\n",
            "|1.97001E11| 1970|     1|   3|    217|     United States|     1|       North America| Wisconsin|      Madison|  43.07295| -89.386694|          1|       0|1/3/1970: Karl Ar...|    1|    1|    1|        0|       0|      1|      0|          7|Facility/Infrastr...|        2|Government (General)|          21|Government Buildi...|   Selective Service|Selective Service...|    217|     United States|     New Year's Gang|To protest the Wa...|         0|     1|       1|        8|   Incendiary|          20| Gasoline or Alcohol|Poured gasoline o...|    0|      0|       0|     0|       0|       0|       1|     0|Karl Armstrong's ...|\"Committee on Gov...|               Civil| and Criminal Dis...|\"\" U.S. Governmen...|            August 6|          1970.\"|\"Tom Bates, \"\"Rad...|\"\" HarperCollinsP...|              1992.\"|\n",
            "+----------+-----+------+----+-------+------------------+------+--------------------+----------+-------------+----------+-----------+-----------+--------+--------------------+-----+-----+-----+---------+--------+-------+-------+-----------+--------------------+---------+--------------------+------------+--------------------+--------------------+--------------------+-------+------------------+--------------------+--------------------+----------+------+--------+---------+-------------+------------+--------------------+--------------------+-----+-------+--------+------+--------+--------+--------+------+--------------------+--------------------+--------------------+--------------------+--------------------+--------------------+----------------+--------------------+--------------------+--------------------+\n",
            "only showing top 10 rows\n",
            "\n"
          ]
        }
      ]
    },
    {
      "cell_type": "code",
      "source": [
        "from pyspark.ml import Pipeline\n",
        "from pyspark.ml.feature import StringIndexer, VectorAssembler\n",
        "from pyspark.ml.classification import LogisticRegression, RandomForestClassifier, LinearSVC\n",
        "from pyspark.ml.evaluation import BinaryClassificationEvaluator"
      ],
      "metadata": {
        "id": "PIDOqz63mFiA"
      },
      "execution_count": null,
      "outputs": []
    },
    {
      "cell_type": "code",
      "source": [
        "# List of categorical columns\n",
        "categorical_columns = [\"country_txt\", \"attacktype1_txt\", \"targtype1_txt\", \"weaptype1_txt\"]\n",
        "\n",
        "# List of numerical columns\n",
        "numerical_columns = ['iyear', 'imonth']\n",
        "\n",
        "# Converting categorical columns to index using StringIndexer\n",
        "indexers = [StringIndexer(inputCol=column, outputCol=column+\"_index\").fit(df) for column in categorical_columns]\n",
        "\n",
        "# Using VectorAssembler to combine the categorical columns and numerical columns into a single vector column\n",
        "assembler = VectorAssembler(inputCols=[indexer.getOutputCol() for indexer in indexers] + numerical_columns, outputCol=\"features\")\n",
        "\n",
        "# Define the pipeline\n",
        "pipeline = Pipeline(stages=indexers + [assembler])\n",
        "\n",
        "#Missing value drop\n",
        "df = df.na.drop()\n",
        "\n",
        "\n",
        "# Convert the success column to a boolean type\n",
        "#df = df.withColumn(\"success\", df[\"success\"].cast(\"boolean\"))\n",
        "\n",
        "# Fit the pipeline to training data\n",
        "df_transformed = pipeline.fit(df).transform(df)\n",
        "\n",
        "# Show the first 10 rows of the transformed DataFrame\n",
        "df_transformed.show(10)\n"
      ],
      "metadata": {
        "colab": {
          "base_uri": "https://localhost:8080/"
        },
        "id": "lIWWIZiP2h9I",
        "outputId": "afb84aea-66b6-414f-8730-8a755f4e4522"
      },
      "execution_count": null,
      "outputs": [
        {
          "output_type": "stream",
          "name": "stdout",
          "text": [
            "+----------+-----+------+----+-------+-------------+------+-------------+-----------+-------------+---------+-----------+-----------+--------+--------------------+-----+-----+-----+---------+--------+-------+-------+-----------+--------------------+---------+--------------------+------------+--------------------+--------------------+--------------------+-------+-------------+--------------------+--------------------+----------+------+--------+---------+-------------+------------+--------------------+--------------------+-----+-------+--------+------+--------+--------+--------+------+--------------------+--------------------+--------------------+--------------------+--------------------+--------------------+--------------------+--------------------+--------------------+--------------------+-----------------+---------------------+-------------------+-------------------+--------------------+\n",
            "|   eventid|iyear|imonth|iday|country|  country_txt|region|   region_txt|  provstate|         city| latitude|  longitude|specificity|vicinity|             summary|crit1|crit2|crit3|doubtterr|multiple|success|suicide|attacktype1|     attacktype1_txt|targtype1|       targtype1_txt|targsubtype1|    targsubtype1_txt|               corp1|             target1|natlty1|  natlty1_txt|               gname|              motive|individual|nperps|nperpcap|weaptype1|weaptype1_txt|weapsubtype1|    weapsubtype1_txt|          weapdetail|nkill|nkillus|nkillter|nwound|nwoundus|nwoundte|property|ransom|            addnotes|              scite1|              scite2|              scite3|            dbsource|             INT_LOG|            INT_IDEO|            INT_MISC|             INT_ANY|             related|country_txt_index|attacktype1_txt_index|targtype1_txt_index|weaptype1_txt_index|            features|\n",
            "+----------+-----+------+----+-------+-------------+------+-------------+-----------+-------------+---------+-----------+-----------+--------+--------------------+-----+-----+-----+---------+--------+-------+-------+-----------+--------------------+---------+--------------------+------------+--------------------+--------------------+--------------------+-------+-------------+--------------------+--------------------+----------+------+--------+---------+-------------+------------+--------------------+--------------------+-----+-------+--------+------+--------+--------+--------+------+--------------------+--------------------+--------------------+--------------------+--------------------+--------------------+--------------------+--------------------+--------------------+--------------------+-----------------+---------------------+-------------------+-------------------+--------------------+\n",
            "|1.97001E11| 1970|     1|   1|    217|United States|     1|North America|   Illinois|        Cairo|37.005105| -89.176269|          1|       0|1/1/1970: Unknown...|    1|    1|    1|        0|       0|      1|      0|          2|       Armed Assault|        3|              Police|          22|Police Building (...|Cairo Police Depa...|Cairo Police Head...|    217|United States|  Black Nationalists|To protest the Ca...|         0|   -99|     -99|        5|     Firearms|           5|    Unknown Gun Type|Several gunshots ...|    0|      0|       0|     0|       0|       0|       1|     0|The Cairo Chief o...|\"\"\"Police Chief Q...|  \"\" Washington Post|           January 2|              1970.\"|\"\"\"Cairo Police C...|    \"\" Afro-American|          January 10|              1970.\"|\"Christopher Hewi...|              0.0|                  2.0|                3.0|                1.0|[0.0,2.0,3.0,1.0,...|\n",
            "|1.97001E11| 1970|     1|   2|    217|United States|     1|North America|  Wisconsin|      Madison|43.076592| -89.412488|          1|       0|1/2/1970: Karl Ar...|    1|    1|    1|        0|       0|      1|      0|          7|Facility/Infrastr...|        4|            Military|          28|Military Recruiti...|            R.O.T.C.|R.O.T.C. offices ...|    217|United States|     New Year's Gang|To protest the Wa...|         0|     1|       1|        8|   Incendiary|          19|Molotov Cocktail/...|Firebomb consisti...|    0|      0|       0|     0|       0|       0|       1|     0|The New Years Gan...|\"Tom Bates, \"\"Rad...|\"\" HarperCollinsP...|              1992.\"|\"David Newman, Sa...| Heard and Won't ...|     \"\" Mother Jones|      February-March|              1979.\"|\"The Wisconsin Ca...|              0.0|                  1.0|                4.0|                2.0|[0.0,1.0,4.0,2.0,...|\n",
            "|1.97001E11| 1970|     1|   3|    217|United States|     1|North America|  Wisconsin|      Madison| 43.07295| -89.386694|          1|       0|1/3/1970: Karl Ar...|    1|    1|    1|        0|       0|      1|      0|          7|Facility/Infrastr...|        2|Government (General)|          21|Government Buildi...|   Selective Service|Selective Service...|    217|United States|     New Year's Gang|To protest the Wa...|         0|     1|       1|        8|   Incendiary|          20| Gasoline or Alcohol|Poured gasoline o...|    0|      0|       0|     0|       0|       0|       1|     0|Karl Armstrong's ...|\"Committee on Gov...|               Civil| and Criminal Dis...|\"\" U.S. Governmen...|            August 6|              1970.\"|\"Tom Bates, \"\"Rad...|\"\" HarperCollinsP...|              1992.\"|              0.0|                  1.0|                2.0|                2.0|[0.0,1.0,2.0,2.0,...|\n",
            "|1.97001E11| 1970|     1|   9|    217|United States|     1|North America|Puerto Rico|  Rio Piedras|18.386932| -66.061127|          1|       0|1/9/1970:  The Ar...|    1|    1|    1|        1|       0|      1|      0|          7|Facility/Infrastr...|        1|            Business|           7|Retail/Grocery/Ba...|American owned bu...|       Baker's Store|    217|United States|Armed Commandos o...|To protest United...|         0|   -99|     -99|        8|   Incendiary|          18|          Arson/Fire|Fire set in back ...|    0|      0|       0|     0|       0|       0|       1|     0|The fire began at...|\"Committee on the...|\"\" U.S. Governmen...|            August 6|              1970.\"|\"\"\"No Evidence Of...|\"\" The Virgin Isl...|          January 13|              1970.\"|\"\"\"Toward People'...|              0.0|                  1.0|                0.0|                2.0|[0.0,1.0,0.0,2.0,...|\n",
            "|1.97001E11| 1970|     1|  12|    217|United States|     1|North America|   New York|New York City|40.697132| -73.931351|          1|       0|1/12/1970: Unknow...|    1|    1|    1|        0|       0|      1|      0|          3|   Bombing/Explosion|        8|Educational Insti...|          49|School/University...|         High School|James Madison Hig...|    217|United States|  Black Nationalists|Suspected motives...|         0|   -99|     -99|        6|   Explosives|          31|           Pipe Bomb|Crudely made pipe...|    0|      0|       0|     0|       0|       0|       1|     0|\"One half hour af...|\"\" \"\"Support Youn...|\"\" and \"\"Americon...|\"\"\"Blast Damages ...|   \"\" New York Times|          January 13|              1970.\"|\"Linda Greenhouse...|   \"\" New York Times|          January 18|              0.0|                  0.0|                5.0|                0.0|[0.0,0.0,5.0,0.0,...|\n",
            "|1.97001E11| 1970|     1|  19|    217|United States|     1|North America| New Jersey|  Jersey City|40.717892| -74.067467|          1|       0|1/19/1970: Unknow...|    1|    1|    1|        0|       0|      1|      0|          7|Facility/Infrastr...|       22|Violent Political...|         110|Party Office/Faci...| Black Panther Party|        Headquarters|    217|United States|    White extremists|Intimidate the Bl...|         0|   -99|     -99|        8|   Incendiary|          18|          Arson/Fire|Gasoline was plac...|    0|      0|       0|     0|       0|       0|       1|     0|The building migh...|\"Committee on Gov...|               Civil| and Criminal Dis...|\"\" U.S. Governmen...|            August 6|              1970.\"|\"\"\"Black Panthers...|   \"\" New York Times|          January 20|              0.0|                  1.0|               18.0|                2.0|[0.0,1.0,18.0,2.0...|\n",
            "|1.97001E11| 1970|     1|  25|    217|United States|     1|North America|   New York|New York City|40.697132| -73.931351|          1|       0|1/25/1970: Respon...|    1|    1|    1|        0|       0|      1|      0|          2|       Armed Assault|        3|              Police|          25|Police Security F...|New York Police D...|New York Police O...|    217|United States|  Black Nationalists|      To kill police|         0|   -99|     -99|        5|     Firearms|           5|    Unknown Gun Type|Nine thirty-calib...|    0|      0|       0|     2|       2|       0|       1|     0|Police do not bel...|\"Committee on Gov...|               Civil| and Criminal Dis...|\"\" U.S. Governmen...|            August 6|              1970.\"|\"Martin Arnold, \"...|   \"\" New York Times|          January 27|              0.0|                  2.0|                3.0|                1.0|[0.0,2.0,3.0,1.0,...|\n",
            "|1.97001E11| 1970|     1|  26|    217|United States|     1|North America|Mississippi|   West Point| 33.60651| -88.650419|          1|       0|1/26/1970: Unknow...|    1|    1|    1|        0|       0|      1|      0|          3|   Bombing/Explosion|        2|Government (General)|          14|Judge/Attorney/Court|          Courthouse|Clay County Court...|    217|United States|  Black Nationalists|African American ...|         0|   -99|     -99|        6|   Explosives|          28|        Dynamite/TNT|Several sticks of...|    0|      0|       0|     0|       0|       0|       1|     0|Police, at the ti...|\"\"\"Miss. City Is ...|\"\" Chicago Daily ...|          January 29|              1970.\"|            \"\"\"Black| White Killings i...| West Trigger Rac...|\"\" New Pittsburgh...|          October 30|              0.0|                  0.0|                2.0|                0.0|[0.0,0.0,2.0,0.0,...|\n",
            "|1.97002E11| 1970|     2|   1|    217|United States|     1|North America|     Oregon|     Portland|45.511795|-122.675629|          1|       0|2/1/1970: An unkn...|    1|    1|    1|        1|       0|      1|      0|          7|Facility/Infrastr...|        2|Government (General)|          21|Government Buildi...|   Selective Service|Selective Service...|    217|United States| Left-Wing Militants|Protest and sabot...|         0|     1|     -99|        8|   Incendiary|          20| Gasoline or Alcohol|Fire started with...|    0|      0|       0|     0|       0|       0|       1|     0|It is suspected t...|\"Committee on Gov...|               Civil| and Criminal Dis...|\"\" U.S. Governmen...|            August 6|              1970.\"| \"\"\"Arsonist 'Failed|'\"\" Eugene Regist...|        February 4th|              0.0|                  1.0|                2.0|                2.0|[0.0,1.0,2.0,2.0,...|\n",
            "|1.97002E11| 1970|     2|   1|    217|United States|     1|North America|   Illinois|        Cairo|37.005105| -89.176269|          1|       0|2/1/1970: Unknown...|    1|    1|    1|        0|       0|      1|      0|          2|       Armed Assault|        3|              Police|          22|Police Building (...|Illinois State Po...|Illinois State Po...|    217|United States|  Black Nationalists|To protest police...|         0|   -99|     -99|        5|     Firearms|           4|Rifle/Shotgun (no...|High-powered rifl...|    0|      0|       0|     0|       0|       0|       1|     0|This attack took ...|\"Committee on Gov...|               Civil| and Criminal Dis...|\"\" U.S. Governmen...|            August 6|              1970.\"|\"\"\"Shooting Inqui...|\"\" The Southeast ...|          February 2|              0.0|                  2.0|                3.0|                1.0|[0.0,2.0,3.0,1.0,...|\n",
            "+----------+-----+------+----+-------+-------------+------+-------------+-----------+-------------+---------+-----------+-----------+--------+--------------------+-----+-----+-----+---------+--------+-------+-------+-----------+--------------------+---------+--------------------+------------+--------------------+--------------------+--------------------+-------+-------------+--------------------+--------------------+----------+------+--------+---------+-------------+------------+--------------------+--------------------+-----+-------+--------+------+--------+--------+--------+------+--------------------+--------------------+--------------------+--------------------+--------------------+--------------------+--------------------+--------------------+--------------------+--------------------+-----------------+---------------------+-------------------+-------------------+--------------------+\n",
            "only showing top 10 rows\n",
            "\n"
          ]
        }
      ]
    },
    {
      "cell_type": "code",
      "source": [
        "from pyspark.sql.functions import col\n",
        "\n",
        "#df = df.withColumn(\"success\", col(\"success\").cast(\"integer\"))\n",
        "\n",
        "\n",
        "# Split the data into training and test sets\n",
        "(train_data, test_data) = df_transformed.randomSplit([0.7, 0.3])\n",
        "\n",
        "# Define the Logistic Regression model\n",
        "lr = LogisticRegression(labelCol=\"success\", featuresCol=\"features\")\n",
        "\n",
        "# Train the model\n",
        "lr_model = lr.fit(train_data)\n",
        "\n",
        "# Make predictions\n",
        "predictions = lr_model.transform(test_data)\n",
        "\n",
        "# Select (prediction, true label) and compute test error\n",
        "evaluator = BinaryClassificationEvaluator(rawPredictionCol=\"rawPrediction\", labelCol=\"success\", metricName=\"areaUnderROC\")\n",
        "\n",
        "# Evaluate the model and print the AUC\n",
        "auc = evaluator.evaluate(predictions)\n",
        "print(f\"AUC of Logistic Regression model is: {auc}\")\n",
        "\n",
        "# Print the coefficients and intercept for logistic regression\n",
        "print(\"Coefficients: \" + str(lr_model.coefficients))\n",
        "print(\"Intercept: \" + str(lr_model.intercept))\n",
        "\n",
        "# Show the first 10 rows of the predictions DataFrame\n",
        "predictions.show(10)\n"
      ],
      "metadata": {
        "id": "OwVJ65CgmCnN",
        "colab": {
          "base_uri": "https://localhost:8080/"
        },
        "outputId": "75c3dffc-186d-4d86-d141-303d76893720"
      },
      "execution_count": null,
      "outputs": [
        {
          "output_type": "stream",
          "name": "stdout",
          "text": [
            "AUC of Logistic Regression model is: 0.6852275616577675\n",
            "Coefficients: [0.11941818458094872,0.20340864374129194,0.00945288455243359,0.4150702121120542,-0.00035066149593230265,-0.0007978015054886149]\n",
            "Intercept: 1.9087034973589292\n",
            "+----------+-----+------+----+-------+-------------+------+-------------+----------+-------------+---------+-----------+-----------+--------+--------------------+-----+-----+-----+---------+--------+-------+-------+-----------+--------------------+---------+--------------------+------------+--------------------+--------------------+--------------------+-------+-------------+--------------------+--------------------+----------+------+--------+---------+-------------+------------+--------------------+--------------------+-----+-------+--------+------+--------+--------+--------+------+--------------------+--------------------+--------------------+--------------------+--------------------+--------------------+-----------------+--------------------+--------------------+--------------------+-----------------+---------------------+-------------------+-------------------+--------------------+--------------------+--------------------+----------+\n",
            "|   eventid|iyear|imonth|iday|country|  country_txt|region|   region_txt| provstate|         city| latitude|  longitude|specificity|vicinity|             summary|crit1|crit2|crit3|doubtterr|multiple|success|suicide|attacktype1|     attacktype1_txt|targtype1|       targtype1_txt|targsubtype1|    targsubtype1_txt|               corp1|             target1|natlty1|  natlty1_txt|               gname|              motive|individual|nperps|nperpcap|weaptype1|weaptype1_txt|weapsubtype1|    weapsubtype1_txt|          weapdetail|nkill|nkillus|nkillter|nwound|nwoundus|nwoundte|property|ransom|            addnotes|              scite1|              scite2|              scite3|            dbsource|             INT_LOG|         INT_IDEO|            INT_MISC|             INT_ANY|             related|country_txt_index|attacktype1_txt_index|targtype1_txt_index|weaptype1_txt_index|            features|       rawPrediction|         probability|prediction|\n",
            "+----------+-----+------+----+-------+-------------+------+-------------+----------+-------------+---------+-----------+-----------+--------+--------------------+-----+-----+-----+---------+--------+-------+-------+-----------+--------------------+---------+--------------------+------------+--------------------+--------------------+--------------------+-------+-------------+--------------------+--------------------+----------+------+--------+---------+-------------+------------+--------------------+--------------------+-----+-------+--------+------+--------+--------+--------+------+--------------------+--------------------+--------------------+--------------------+--------------------+--------------------+-----------------+--------------------+--------------------+--------------------+-----------------+---------------------+-------------------+-------------------+--------------------+--------------------+--------------------+----------+\n",
            "|1.97001E11| 1970|     1|   1|    217|United States|     1|North America|  Illinois|        Cairo|37.005105| -89.176269|          1|       0|1/1/1970: Unknown...|    1|    1|    1|        0|       0|      1|      0|          2|       Armed Assault|        3|              Police|          22|Police Building (...|Cairo Police Depa...|Cairo Police Head...|    217|United States|  Black Nationalists|To protest the Ca...|         0|   -99|     -99|        5|     Firearms|           5|    Unknown Gun Type|Several gunshots ...|    0|      0|       0|     0|       0|       0|       1|     0|The Cairo Chief o...|\"\"\"Police Chief Q...|  \"\" Washington Post|           January 2|              1970.\"|\"\"\"Cairo Police C...| \"\" Afro-American|          January 10|              1970.\"|\"Christopher Hewi...|              0.0|                  2.0|                3.0|                1.0|[0.0,2.0,3.0,1.0,...|[-2.0673487021187...|[0.11231109425810...|       1.0|\n",
            "|1.97001E11| 1970|     1|   2|    217|United States|     1|North America| Wisconsin|      Madison|43.076592| -89.412488|          1|       0|1/2/1970: Karl Ar...|    1|    1|    1|        0|       0|      1|      0|          7|Facility/Infrastr...|        4|            Military|          28|Military Recruiti...|            R.O.T.C.|R.O.T.C. offices ...|    217|United States|     New Year's Gang|To protest the Wa...|         0|     1|       1|        8|   Incendiary|          19|Molotov Cocktail/...|Firebomb consisti...|    0|      0|       0|     0|       0|       0|       1|     0|The New Years Gan...|\"Tom Bates, \"\"Rad...|\"\" HarperCollinsP...|              1992.\"|\"David Newman, Sa...| Heard and Won't ...|  \"\" Mother Jones|      February-March|              1979.\"|\"The Wisconsin Ca...|              0.0|                  1.0|                4.0|                2.0|[0.0,1.0,4.0,2.0,...|[-2.2884631550419...|[0.09208295530895...|       1.0|\n",
            "|1.97001E11| 1970|     1|  25|    217|United States|     1|North America|  New York|New York City|40.697132| -73.931351|          1|       0|1/25/1970: Respon...|    1|    1|    1|        0|       0|      1|      0|          2|       Armed Assault|        3|              Police|          25|Police Security F...|New York Police D...|New York Police O...|    217|United States|  Black Nationalists|      To kill police|         0|   -99|     -99|        5|     Firearms|           5|    Unknown Gun Type|Nine thirty-calib...|    0|      0|       0|     2|       2|       0|       1|     0|Police do not bel...|\"Committee on Gov...|               Civil| and Criminal Dis...|\"\" U.S. Governmen...|            August 6|           1970.\"|\"Martin Arnold, \"...|   \"\" New York Times|          January 27|              0.0|                  2.0|                3.0|                1.0|[0.0,2.0,3.0,1.0,...|[-2.0673487021187...|[0.11231109425810...|       1.0|\n",
            "|1.97002E11| 1970|     2|   9|    217|United States|     1|North America|  New York|New York City|40.697132| -73.931351|          1|       0|2/9/1970: In a se...|    1|    1|    1|        0|       1|      0|      0|          3|   Bombing/Explosion|        1|            Business|           4|Multinational Cor...|    General Electric|General Electric ...|    217|United States|Armed Revolutiona...|To fight imperial...|         0|     1|       1|        6|   Explosives|          31|           Pipe Bomb|Pipe bomb in a pa...|    0|      0|       0|     0|       0|       0|       0|     0|Part of a multipl...|\"\"\"2 Bombs Explod...|   \"\" New York Times|          February 9|              1970.\"|\"\"\"Puerto Rican G...|\"\" New York Times|         February 13|              1970.\"|\"\"\"Bomb Case Figu...|              0.0|                  0.0|                0.0|                0.0|(6,[4,5],[1970.0,...|[-1.2163047473613...|[0.22858740008575...|       1.0|\n",
            "|1.97002E11| 1970|     2|  24|    217|United States|     1|North America|  Illinois|    Champaign|40.101952| -88.227161|          1|       0|2/24/1970: Unknow...|    1|    1|    1|        0|       0|      1|      0|          7|Facility/Infrastr...|        4|            Military|          28|Military Recruiti...|            R.O.T.C.|R.O.T.C., Univers...|    217|United States|    Student Radicals|Protest secret go...|         0|   -99|     -99|        8|   Incendiary|          19|Molotov Cocktail/...|Molotov cocktail ...|    0|      0|       0|     0|       0|       0|       1|     0|The attack occurr...|\"Committee on Gov...|               Civil| and Criminal Dis...|\"\" U.S. Governmen...|            August 6|           1970.\"|\"Patrick D. Kenne...|           1965-1972|\"\" Illinois Histo...|              0.0|                  1.0|                4.0|                2.0|[0.0,1.0,4.0,2.0,...|[-2.2876653535364...|[0.09214967616431...|       1.0|\n",
            "|1.97003E11| 1970|     3|   4|    217|United States|     1|North America|California|      Oakland|37.791927|-122.225906|          1|       0|3/4/1970: Unknown...|    1|    1|    1|        0|       0|      0|      0|          3|   Bombing/Explosion|        4|            Military|          27|Military Barracks...|         US Military|   Oakland Army Base|    217|United States| Left-Wing Militants|Sabotage the US A...|         0|   -99|     -99|        6|   Explosives|          14|           Time Fuse|Two and one half ...|    0|      0|       0|     0|       0|       0|       0|     0|When the bomb was...|\"Committee on Gov...|               Civil| and Criminal Dis...|\"\" U.S. Governmen...|            August 6|           1970.\"|\"\"\"Army Disarms T...|  \"\" Washington Post|             March 5|              0.0|                  0.0|                4.0|                0.0|[0.0,0.0,4.0,0.0,...|[-1.2533184840655...|[0.22212622200165...|       1.0|\n",
            "|1.97003E11| 1970|     3|   9|    217|United States|     1|North America|New Mexico|  Albuquerque|35.084319|-106.619781|          1|       0|3/9/1970: Unknown...|    1|    1|    1|        0|       0|      0|      0|          3|   Bombing/Explosion|        4|            Military|          28|Military Recruiti...|            R.O.T.C.|Air Force R.O.T.C...|    217|United States|    White extremists|Protest the R.O.T...|         0|   -99|     -99|        6|   Explosives|          14|           Time Fuse|Homemade incendia...|    0|      0|       0|     0|       0|       0|       0|     0|Special state pol...|\"Committee on Gov...|               Civil| and Criminal Dis...|\"\" U.S. Governmen...|            August 6|           1970.\"|\"\"\"S.F. State Pro...| Off-Campus Rampa...|  \"\" Washington Post|              0.0|                  0.0|                4.0|                0.0|[0.0,0.0,4.0,0.0,...|[-1.2533184840655...|[0.22212622200165...|       1.0|\n",
            "|1.97003E11| 1970|     3|  21|    217|United States|     1|North America|  New York|New York City|40.697132| -73.931351|          1|       0|3/21/1970: In a s...|    1|    1|    1|        0|       1|      1|      0|          7|Facility/Infrastr...|        1|            Business|           7|Retail/Grocery/Ba...|    Department Store|Bloomingdale's De...|    217|United States|Puerto Rican Resi...|Promote Puerto Ri...|         0|   -99|     -99|        8|   Incendiary|          20| Gasoline or Alcohol|Cigarette box con...|    0|      0|       0|     0|       0|       0|       1|     0|Part of a multipl...|\"Committee on Gov...|               Civil| and Criminal Dis...|\"\" U.S. Governmen...|            August 6|           1970.\"|\"Robert D. McFadd...|   \"\" New York Times|            March 22|              0.0|                  1.0|                0.0|                2.0|[0.0,1.0,0.0,2.0,...|[-2.2490560138212...|[0.09543092231589...|       1.0|\n",
            "|1.97004E11| 1970|     4|   8|    217|United States|     1|North America|California|  Los Angeles|34.097866|-118.407379|          1|       0|4/8/1970: Suspect...|    1|    1|    1|        0|       0|      1|      0|          7|Facility/Infrastr...|        8|Educational Insti...|          49|School/University...|Roosevelt High Sc...|Administration bu...|    217|United States|Chicano Liberatio...|To protest the po...|         0|   -99|     -99|        8|   Incendiary|          18|          Arson/Fire|               Arson|    0|      0|       0|     0|       0|       0|       1|     0|\"There were three...| authorities coul...|\"\"\"Arsonists Blam...|000 Roosevelt Hig...|\"\" Los Angeles Times|             April 9|           1970.\"|\"\"\"2 School Build...|                 000|\"\" Los Angeles Times|              0.0|                  1.0|                5.0|                2.0|[0.0,1.0,5.0,2.0,...|[-2.2955226350779...|[0.09149445390731...|       1.0|\n",
            "|1.97004E11| 1970|     4|  19|    217|United States|     1|North America|  New York|New York City|40.697132| -73.931351|          1|       0|\"4/19/1970: Unkno...|    1|    1|    1|        0|       0|      0|      0|          3|   Bombing/Explosion|        3|              Police|          23|Police Patrol (in...|New York Police D...|Corrections Offic...|    217|United States|  Black Nationalists|To coerce the gov...|         0|   -99|     -99|        6|   Explosives|          28|        Dynamite/TNT|Lighted cigarette...|    0|      0|       0|     3|       3|       0|       0|     0|The lighted cigar...|\"Committee on Gov...|               Civil| and Criminal Dis...|\"\" U.S. Governmen...|            August 6|           1970.\"|\"\"\"Bomb Found at ...|  Dynamite at a Bank|   \"\" New York Times|              0.0|                  0.0|                3.0|                0.0|[0.0,0.0,3.0,0.0,...|[-1.2430677980076...|[0.22390244254664...|       1.0|\n",
            "+----------+-----+------+----+-------+-------------+------+-------------+----------+-------------+---------+-----------+-----------+--------+--------------------+-----+-----+-----+---------+--------+-------+-------+-----------+--------------------+---------+--------------------+------------+--------------------+--------------------+--------------------+-------+-------------+--------------------+--------------------+----------+------+--------+---------+-------------+------------+--------------------+--------------------+-----+-------+--------+------+--------+--------+--------+------+--------------------+--------------------+--------------------+--------------------+--------------------+--------------------+-----------------+--------------------+--------------------+--------------------+-----------------+---------------------+-------------------+-------------------+--------------------+--------------------+--------------------+----------+\n",
            "only showing top 10 rows\n",
            "\n"
          ]
        }
      ]
    },
    {
      "cell_type": "code",
      "source": [
        "# Define the Random Forest model\n",
        "rf = RandomForestClassifier(labelCol=\"success\", featuresCol=\"features\",maxBins=200)\n",
        "\n",
        "# Train the model\n",
        "rf_model = rf.fit(train_data)\n",
        "\n",
        "# Make predictions\n",
        "predictions_rf = rf_model.transform(test_data)\n",
        "\n",
        "# Select (prediction, true label) and compute test error\n",
        "evaluator_rf = BinaryClassificationEvaluator(rawPredictionCol=\"rawPrediction\", labelCol=\"success\", metricName=\"areaUnderROC\")\n",
        "\n",
        "# Evaluate the model and print the AUC\n",
        "auc_rf = evaluator_rf.evaluate(predictions_rf)\n",
        "print(f\"AUC of Random Forest model is: {auc_rf}\")\n",
        "\n",
        "# Show the first 10 rows of the predictions DataFrame\n",
        "predictions_rf.show(10)\n"
      ],
      "metadata": {
        "colab": {
          "base_uri": "https://localhost:8080/"
        },
        "id": "fJQL8V8W4qh9",
        "outputId": "8b518739-c8f2-4c9e-e64a-bbadb2ef312f"
      },
      "execution_count": null,
      "outputs": [
        {
          "output_type": "stream",
          "name": "stdout",
          "text": [
            "AUC of Random Forest model is: 0.7813374014747012\n",
            "+----------+-----+------+----+-------+-------------+------+-------------+----------+-------------+---------+-----------+-----------+--------+--------------------+-----+-----+-----+---------+--------+-------+-------+-----------+--------------------+---------+--------------------+------------+--------------------+--------------------+--------------------+-------+-------------+--------------------+--------------------+----------+------+--------+---------+-------------+------------+--------------------+--------------------+-----+-------+--------+------+--------+--------+--------+------+--------------------+--------------------+--------------------+--------------------+--------------------+--------------------+-----------------+--------------------+--------------------+--------------------+-----------------+---------------------+-------------------+-------------------+--------------------+--------------------+--------------------+----------+\n",
            "|   eventid|iyear|imonth|iday|country|  country_txt|region|   region_txt| provstate|         city| latitude|  longitude|specificity|vicinity|             summary|crit1|crit2|crit3|doubtterr|multiple|success|suicide|attacktype1|     attacktype1_txt|targtype1|       targtype1_txt|targsubtype1|    targsubtype1_txt|               corp1|             target1|natlty1|  natlty1_txt|               gname|              motive|individual|nperps|nperpcap|weaptype1|weaptype1_txt|weapsubtype1|    weapsubtype1_txt|          weapdetail|nkill|nkillus|nkillter|nwound|nwoundus|nwoundte|property|ransom|            addnotes|              scite1|              scite2|              scite3|            dbsource|             INT_LOG|         INT_IDEO|            INT_MISC|             INT_ANY|             related|country_txt_index|attacktype1_txt_index|targtype1_txt_index|weaptype1_txt_index|            features|       rawPrediction|         probability|prediction|\n",
            "+----------+-----+------+----+-------+-------------+------+-------------+----------+-------------+---------+-----------+-----------+--------+--------------------+-----+-----+-----+---------+--------+-------+-------+-----------+--------------------+---------+--------------------+------------+--------------------+--------------------+--------------------+-------+-------------+--------------------+--------------------+----------+------+--------+---------+-------------+------------+--------------------+--------------------+-----+-------+--------+------+--------+--------+--------+------+--------------------+--------------------+--------------------+--------------------+--------------------+--------------------+-----------------+--------------------+--------------------+--------------------+-----------------+---------------------+-------------------+-------------------+--------------------+--------------------+--------------------+----------+\n",
            "|1.97001E11| 1970|     1|   1|    217|United States|     1|North America|  Illinois|        Cairo|37.005105| -89.176269|          1|       0|1/1/1970: Unknown...|    1|    1|    1|        0|       0|      1|      0|          2|       Armed Assault|        3|              Police|          22|Police Building (...|Cairo Police Depa...|Cairo Police Head...|    217|United States|  Black Nationalists|To protest the Ca...|         0|   -99|     -99|        5|     Firearms|           5|    Unknown Gun Type|Several gunshots ...|    0|      0|       0|     0|       0|       0|       1|     0|The Cairo Chief o...|\"\"\"Police Chief Q...|  \"\" Washington Post|           January 2|              1970.\"|\"\"\"Cairo Police C...| \"\" Afro-American|          January 10|              1970.\"|\"Christopher Hewi...|              0.0|                  2.0|                3.0|                1.0|[0.0,2.0,3.0,1.0,...|[1.10804940425263...|[0.05540247021263...|       1.0|\n",
            "|1.97001E11| 1970|     1|   2|    217|United States|     1|North America| Wisconsin|      Madison|43.076592| -89.412488|          1|       0|1/2/1970: Karl Ar...|    1|    1|    1|        0|       0|      1|      0|          7|Facility/Infrastr...|        4|            Military|          28|Military Recruiti...|            R.O.T.C.|R.O.T.C. offices ...|    217|United States|     New Year's Gang|To protest the Wa...|         0|     1|       1|        8|   Incendiary|          19|Molotov Cocktail/...|Firebomb consisti...|    0|      0|       0|     0|       0|       0|       1|     0|The New Years Gan...|\"Tom Bates, \"\"Rad...|\"\" HarperCollinsP...|              1992.\"|\"David Newman, Sa...| Heard and Won't ...|  \"\" Mother Jones|      February-March|              1979.\"|\"The Wisconsin Ca...|              0.0|                  1.0|                4.0|                2.0|[0.0,1.0,4.0,2.0,...|[0.92332384079148...|[0.04616619203957...|       1.0|\n",
            "|1.97001E11| 1970|     1|  25|    217|United States|     1|North America|  New York|New York City|40.697132| -73.931351|          1|       0|1/25/1970: Respon...|    1|    1|    1|        0|       0|      1|      0|          2|       Armed Assault|        3|              Police|          25|Police Security F...|New York Police D...|New York Police O...|    217|United States|  Black Nationalists|      To kill police|         0|   -99|     -99|        5|     Firearms|           5|    Unknown Gun Type|Nine thirty-calib...|    0|      0|       0|     2|       2|       0|       1|     0|Police do not bel...|\"Committee on Gov...|               Civil| and Criminal Dis...|\"\" U.S. Governmen...|            August 6|           1970.\"|\"Martin Arnold, \"...|   \"\" New York Times|          January 27|              0.0|                  2.0|                3.0|                1.0|[0.0,2.0,3.0,1.0,...|[1.10804940425263...|[0.05540247021263...|       1.0|\n",
            "|1.97002E11| 1970|     2|   9|    217|United States|     1|North America|  New York|New York City|40.697132| -73.931351|          1|       0|2/9/1970: In a se...|    1|    1|    1|        0|       1|      0|      0|          3|   Bombing/Explosion|        1|            Business|           4|Multinational Cor...|    General Electric|General Electric ...|    217|United States|Armed Revolutiona...|To fight imperial...|         0|     1|       1|        6|   Explosives|          31|           Pipe Bomb|Pipe bomb in a pa...|    0|      0|       0|     0|       0|       0|       0|     0|Part of a multipl...|\"\"\"2 Bombs Explod...|   \"\" New York Times|          February 9|              1970.\"|\"\"\"Puerto Rican G...|\"\" New York Times|         February 13|              1970.\"|\"\"\"Bomb Case Figu...|              0.0|                  0.0|                0.0|                0.0|(6,[4,5],[1970.0,...|[3.61396776139068...|[0.18069838806953...|       1.0|\n",
            "|1.97002E11| 1970|     2|  24|    217|United States|     1|North America|  Illinois|    Champaign|40.101952| -88.227161|          1|       0|2/24/1970: Unknow...|    1|    1|    1|        0|       0|      1|      0|          7|Facility/Infrastr...|        4|            Military|          28|Military Recruiti...|            R.O.T.C.|R.O.T.C., Univers...|    217|United States|    Student Radicals|Protest secret go...|         0|   -99|     -99|        8|   Incendiary|          19|Molotov Cocktail/...|Molotov cocktail ...|    0|      0|       0|     0|       0|       0|       1|     0|The attack occurr...|\"Committee on Gov...|               Civil| and Criminal Dis...|\"\" U.S. Governmen...|            August 6|           1970.\"|\"Patrick D. Kenne...|           1965-1972|\"\" Illinois Histo...|              0.0|                  1.0|                4.0|                2.0|[0.0,1.0,4.0,2.0,...|[1.13744919609331...|[0.05687245980466...|       1.0|\n",
            "|1.97003E11| 1970|     3|   4|    217|United States|     1|North America|California|      Oakland|37.791927|-122.225906|          1|       0|3/4/1970: Unknown...|    1|    1|    1|        0|       0|      0|      0|          3|   Bombing/Explosion|        4|            Military|          27|Military Barracks...|         US Military|   Oakland Army Base|    217|United States| Left-Wing Militants|Sabotage the US A...|         0|   -99|     -99|        6|   Explosives|          14|           Time Fuse|Two and one half ...|    0|      0|       0|     0|       0|       0|       0|     0|When the bomb was...|\"Committee on Gov...|               Civil| and Criminal Dis...|\"\" U.S. Governmen...|            August 6|           1970.\"|\"\"\"Army Disarms T...|  \"\" Washington Post|             March 5|              0.0|                  0.0|                4.0|                0.0|[0.0,0.0,4.0,0.0,...|[3.26759494229059...|[0.16337974711452...|       1.0|\n",
            "|1.97003E11| 1970|     3|   9|    217|United States|     1|North America|New Mexico|  Albuquerque|35.084319|-106.619781|          1|       0|3/9/1970: Unknown...|    1|    1|    1|        0|       0|      0|      0|          3|   Bombing/Explosion|        4|            Military|          28|Military Recruiti...|            R.O.T.C.|Air Force R.O.T.C...|    217|United States|    White extremists|Protest the R.O.T...|         0|   -99|     -99|        6|   Explosives|          14|           Time Fuse|Homemade incendia...|    0|      0|       0|     0|       0|       0|       0|     0|Special state pol...|\"Committee on Gov...|               Civil| and Criminal Dis...|\"\" U.S. Governmen...|            August 6|           1970.\"|\"\"\"S.F. State Pro...| Off-Campus Rampa...|  \"\" Washington Post|              0.0|                  0.0|                4.0|                0.0|[0.0,0.0,4.0,0.0,...|[3.26759494229059...|[0.16337974711452...|       1.0|\n",
            "|1.97003E11| 1970|     3|  21|    217|United States|     1|North America|  New York|New York City|40.697132| -73.931351|          1|       0|3/21/1970: In a s...|    1|    1|    1|        0|       1|      1|      0|          7|Facility/Infrastr...|        1|            Business|           7|Retail/Grocery/Ba...|    Department Store|Bloomingdale's De...|    217|United States|Puerto Rican Resi...|Promote Puerto Ri...|         0|   -99|     -99|        8|   Incendiary|          20| Gasoline or Alcohol|Cigarette box con...|    0|      0|       0|     0|       0|       0|       1|     0|Part of a multipl...|\"Committee on Gov...|               Civil| and Criminal Dis...|\"\" U.S. Governmen...|            August 6|           1970.\"|\"Robert D. McFadd...|   \"\" New York Times|            March 22|              0.0|                  1.0|                0.0|                2.0|[0.0,1.0,0.0,2.0,...|[1.16758269895409...|[0.05837913494770...|       1.0|\n",
            "|1.97004E11| 1970|     4|   8|    217|United States|     1|North America|California|  Los Angeles|34.097866|-118.407379|          1|       0|4/8/1970: Suspect...|    1|    1|    1|        0|       0|      1|      0|          7|Facility/Infrastr...|        8|Educational Insti...|          49|School/University...|Roosevelt High Sc...|Administration bu...|    217|United States|Chicano Liberatio...|To protest the po...|         0|   -99|     -99|        8|   Incendiary|          18|          Arson/Fire|               Arson|    0|      0|       0|     0|       0|       0|       1|     0|\"There were three...| authorities coul...|\"\"\"Arsonists Blam...|000 Roosevelt Hig...|\"\" Los Angeles Times|             April 9|           1970.\"|\"\"\"2 School Build...|                 000|\"\" Los Angeles Times|              0.0|                  1.0|                5.0|                2.0|[0.0,1.0,5.0,2.0,...|[1.13744919609331...|[0.05687245980466...|       1.0|\n",
            "|1.97004E11| 1970|     4|  19|    217|United States|     1|North America|  New York|New York City|40.697132| -73.931351|          1|       0|\"4/19/1970: Unkno...|    1|    1|    1|        0|       0|      0|      0|          3|   Bombing/Explosion|        3|              Police|          23|Police Patrol (in...|New York Police D...|Corrections Offic...|    217|United States|  Black Nationalists|To coerce the gov...|         0|   -99|     -99|        6|   Explosives|          28|        Dynamite/TNT|Lighted cigarette...|    0|      0|       0|     3|       3|       0|       0|     0|The lighted cigar...|\"Committee on Gov...|               Civil| and Criminal Dis...|\"\" U.S. Governmen...|            August 6|           1970.\"|\"\"\"Bomb Found at ...|  Dynamite at a Bank|   \"\" New York Times|              0.0|                  0.0|                3.0|                0.0|[0.0,0.0,3.0,0.0,...|[3.22507793548786...|[0.16125389677439...|       1.0|\n",
            "+----------+-----+------+----+-------+-------------+------+-------------+----------+-------------+---------+-----------+-----------+--------+--------------------+-----+-----+-----+---------+--------+-------+-------+-----------+--------------------+---------+--------------------+------------+--------------------+--------------------+--------------------+-------+-------------+--------------------+--------------------+----------+------+--------+---------+-------------+------------+--------------------+--------------------+-----+-------+--------+------+--------+--------+--------+------+--------------------+--------------------+--------------------+--------------------+--------------------+--------------------+-----------------+--------------------+--------------------+--------------------+-----------------+---------------------+-------------------+-------------------+--------------------+--------------------+--------------------+----------+\n",
            "only showing top 10 rows\n",
            "\n"
          ]
        }
      ]
    },
    {
      "cell_type": "code",
      "source": [
        "# Define the Support Vector Machine model\n",
        "svm = LinearSVC(labelCol=\"success\", featuresCol=\"features\")\n",
        "\n",
        "# Train the model\n",
        "svm_model = svm.fit(train_data)\n",
        "\n",
        "# Make predictions\n",
        "predictions_svm = svm_model.transform(test_data)\n",
        "\n",
        "# Select (prediction, true label) and compute test error\n",
        "evaluator_svm = BinaryClassificationEvaluator(rawPredictionCol=\"rawPrediction\", labelCol=\"success\", metricName=\"areaUnderROC\")\n",
        "\n",
        "# Evaluate the model and print the AUC\n",
        "auc_svm = evaluator_svm.evaluate(predictions_svm)\n",
        "print(f\"AUC of Support Vector Machine model is: {auc_svm}\")\n",
        "\n",
        "# Show the first 10 rows of the predictions DataFrame\n",
        "predictions_svm.show(10)\n"
      ],
      "metadata": {
        "id": "FLHWE3Af2iH-",
        "colab": {
          "base_uri": "https://localhost:8080/"
        },
        "outputId": "a4a24ada-9944-4d7d-d1ef-da526cd01a9a"
      },
      "execution_count": null,
      "outputs": [
        {
          "output_type": "stream",
          "name": "stdout",
          "text": [
            "AUC of Support Vector Machine model is: 0.7017543859649124\n",
            "+----------+-----+------+----+-------+-------------+------+-------------+----------+-------------+---------+-----------+-----------+--------+--------------------+-----+-----+-----+---------+--------+-------+-------+-----------+--------------------+---------+--------------------+------------+--------------------+--------------------+--------------------+-------+-------------+--------------------+--------------------+----------+------+--------+---------+-------------+------------+--------------------+--------------------+-----+-------+--------+------+--------+--------+--------+------+--------------------+--------------------+--------------------+--------------------+--------------------+--------------------+-----------------+--------------------+--------------------+--------------------+-----------------+---------------------+-------------------+-------------------+--------------------+--------------------+----------+\n",
            "|   eventid|iyear|imonth|iday|country|  country_txt|region|   region_txt| provstate|         city| latitude|  longitude|specificity|vicinity|             summary|crit1|crit2|crit3|doubtterr|multiple|success|suicide|attacktype1|     attacktype1_txt|targtype1|       targtype1_txt|targsubtype1|    targsubtype1_txt|               corp1|             target1|natlty1|  natlty1_txt|               gname|              motive|individual|nperps|nperpcap|weaptype1|weaptype1_txt|weapsubtype1|    weapsubtype1_txt|          weapdetail|nkill|nkillus|nkillter|nwound|nwoundus|nwoundte|property|ransom|            addnotes|              scite1|              scite2|              scite3|            dbsource|             INT_LOG|         INT_IDEO|            INT_MISC|             INT_ANY|             related|country_txt_index|attacktype1_txt_index|targtype1_txt_index|weaptype1_txt_index|            features|       rawPrediction|prediction|\n",
            "+----------+-----+------+----+-------+-------------+------+-------------+----------+-------------+---------+-----------+-----------+--------+--------------------+-----+-----+-----+---------+--------+-------+-------+-----------+--------------------+---------+--------------------+------------+--------------------+--------------------+--------------------+-------+-------------+--------------------+--------------------+----------+------+--------+---------+-------------+------------+--------------------+--------------------+-----+-------+--------+------+--------+--------+--------+------+--------------------+--------------------+--------------------+--------------------+--------------------+--------------------+-----------------+--------------------+--------------------+--------------------+-----------------+---------------------+-------------------+-------------------+--------------------+--------------------+----------+\n",
            "|1.97001E11| 1970|     1|   1|    217|United States|     1|North America|  Illinois|        Cairo|37.005105| -89.176269|          1|       0|1/1/1970: Unknown...|    1|    1|    1|        0|       0|      1|      0|          2|       Armed Assault|        3|              Police|          22|Police Building (...|Cairo Police Depa...|Cairo Police Head...|    217|United States|  Black Nationalists|To protest the Ca...|         0|   -99|     -99|        5|     Firearms|           5|    Unknown Gun Type|Several gunshots ...|    0|      0|       0|     0|       0|       0|       1|     0|The Cairo Chief o...|\"\"\"Police Chief Q...|  \"\" Washington Post|           January 2|              1970.\"|\"\"\"Cairo Police C...| \"\" Afro-American|          January 10|              1970.\"|\"Christopher Hewi...|              0.0|                  2.0|                3.0|                1.0|[0.0,2.0,3.0,1.0,...|[-1.0005266462167...|       1.0|\n",
            "|1.97001E11| 1970|     1|   2|    217|United States|     1|North America| Wisconsin|      Madison|43.076592| -89.412488|          1|       0|1/2/1970: Karl Ar...|    1|    1|    1|        0|       0|      1|      0|          7|Facility/Infrastr...|        4|            Military|          28|Military Recruiti...|            R.O.T.C.|R.O.T.C. offices ...|    217|United States|     New Year's Gang|To protest the Wa...|         0|     1|       1|        8|   Incendiary|          19|Molotov Cocktail/...|Firebomb consisti...|    0|      0|       0|     0|       0|       0|       1|     0|The New Years Gan...|\"Tom Bates, \"\"Rad...|\"\" HarperCollinsP...|              1992.\"|\"David Newman, Sa...| Heard and Won't ...|  \"\" Mother Jones|      February-March|              1979.\"|\"The Wisconsin Ca...|              0.0|                  1.0|                4.0|                2.0|[0.0,1.0,4.0,2.0,...|[-1.0008219315258...|       1.0|\n",
            "|1.97001E11| 1970|     1|  25|    217|United States|     1|North America|  New York|New York City|40.697132| -73.931351|          1|       0|1/25/1970: Respon...|    1|    1|    1|        0|       0|      1|      0|          2|       Armed Assault|        3|              Police|          25|Police Security F...|New York Police D...|New York Police O...|    217|United States|  Black Nationalists|      To kill police|         0|   -99|     -99|        5|     Firearms|           5|    Unknown Gun Type|Nine thirty-calib...|    0|      0|       0|     2|       2|       0|       1|     0|Police do not bel...|\"Committee on Gov...|               Civil| and Criminal Dis...|\"\" U.S. Governmen...|            August 6|           1970.\"|\"Martin Arnold, \"...|   \"\" New York Times|          January 27|              0.0|                  2.0|                3.0|                1.0|[0.0,2.0,3.0,1.0,...|[-1.0005266462167...|       1.0|\n",
            "|1.97002E11| 1970|     2|   9|    217|United States|     1|North America|  New York|New York City|40.697132| -73.931351|          1|       0|2/9/1970: In a se...|    1|    1|    1|        0|       1|      0|      0|          3|   Bombing/Explosion|        1|            Business|           4|Multinational Cor...|    General Electric|General Electric ...|    217|United States|Armed Revolutiona...|To fight imperial...|         0|     1|       1|        6|   Explosives|          31|           Pipe Bomb|Pipe bomb in a pa...|    0|      0|       0|     0|       0|       0|       0|     0|Part of a multipl...|\"\"\"2 Bombs Explod...|   \"\" New York Times|          February 9|              1970.\"|\"\"\"Puerto Rican G...|\"\" New York Times|         February 13|              1970.\"|\"\"\"Bomb Case Figu...|              0.0|                  0.0|                0.0|                0.0|(6,[4,5],[1970.0,...|[-1.0000915380513...|       1.0|\n",
            "|1.97002E11| 1970|     2|  24|    217|United States|     1|North America|  Illinois|    Champaign|40.101952| -88.227161|          1|       0|2/24/1970: Unknow...|    1|    1|    1|        0|       0|      1|      0|          7|Facility/Infrastr...|        4|            Military|          28|Military Recruiti...|            R.O.T.C.|R.O.T.C., Univers...|    217|United States|    Student Radicals|Protest secret go...|         0|   -99|     -99|        8|   Incendiary|          19|Molotov Cocktail/...|Molotov cocktail ...|    0|      0|       0|     0|       0|       0|       1|     0|The attack occurr...|\"Committee on Gov...|               Civil| and Criminal Dis...|\"\" U.S. Governmen...|            August 6|           1970.\"|\"Patrick D. Kenne...|           1965-1972|\"\" Illinois Histo...|              0.0|                  1.0|                4.0|                2.0|[0.0,1.0,4.0,2.0,...|[-1.0007407674108...|       1.0|\n",
            "|1.97003E11| 1970|     3|   4|    217|United States|     1|North America|California|      Oakland|37.791927|-122.225906|          1|       0|3/4/1970: Unknown...|    1|    1|    1|        0|       0|      0|      0|          3|   Bombing/Explosion|        4|            Military|          27|Military Barracks...|         US Military|   Oakland Army Base|    217|United States| Left-Wing Militants|Sabotage the US A...|         0|   -99|     -99|        6|   Explosives|          14|           Time Fuse|Two and one half ...|    0|      0|       0|     0|       0|       0|       0|     0|When the bomb was...|\"Committee on Gov...|               Civil| and Criminal Dis...|\"\" U.S. Governmen...|            August 6|           1970.\"|\"\"\"Army Disarms T...|  \"\" Washington Post|             March 5|              0.0|                  0.0|                4.0|                0.0|[0.0,0.0,4.0,0.0,...|[-1.0001264787539...|       1.0|\n",
            "|1.97003E11| 1970|     3|   9|    217|United States|     1|North America|New Mexico|  Albuquerque|35.084319|-106.619781|          1|       0|3/9/1970: Unknown...|    1|    1|    1|        0|       0|      0|      0|          3|   Bombing/Explosion|        4|            Military|          28|Military Recruiti...|            R.O.T.C.|Air Force R.O.T.C...|    217|United States|    White extremists|Protest the R.O.T...|         0|   -99|     -99|        6|   Explosives|          14|           Time Fuse|Homemade incendia...|    0|      0|       0|     0|       0|       0|       0|     0|Special state pol...|\"Committee on Gov...|               Civil| and Criminal Dis...|\"\" U.S. Governmen...|            August 6|           1970.\"|\"\"\"S.F. State Pro...| Off-Campus Rampa...|  \"\" Washington Post|              0.0|                  0.0|                4.0|                0.0|[0.0,0.0,4.0,0.0,...|[-1.0001264787539...|       1.0|\n",
            "|1.97003E11| 1970|     3|  21|    217|United States|     1|North America|  New York|New York City|40.697132| -73.931351|          1|       0|3/21/1970: In a s...|    1|    1|    1|        0|       1|      1|      0|          7|Facility/Infrastr...|        1|            Business|           7|Retail/Grocery/Ba...|    Department Store|Bloomingdale's De...|    217|United States|Puerto Rican Resi...|Promote Puerto Ri...|         0|   -99|     -99|        8|   Incendiary|          20| Gasoline or Alcohol|Cigarette box con...|    0|      0|       0|     0|       0|       0|       1|     0|Part of a multipl...|\"Committee on Gov...|               Civil| and Criminal Dis...|\"\" U.S. Governmen...|            August 6|           1970.\"|\"Robert D. McFadd...|   \"\" New York Times|            March 22|              0.0|                  1.0|                0.0|                2.0|[0.0,1.0,0.0,2.0,...|[-1.0005434984780...|       1.0|\n",
            "|1.97004E11| 1970|     4|   8|    217|United States|     1|North America|California|  Los Angeles|34.097866|-118.407379|          1|       0|4/8/1970: Suspect...|    1|    1|    1|        0|       0|      1|      0|          7|Facility/Infrastr...|        8|Educational Insti...|          49|School/University...|Roosevelt High Sc...|Administration bu...|    217|United States|Chicano Liberatio...|To protest the po...|         0|   -99|     -99|        8|   Incendiary|          18|          Arson/Fire|               Arson|    0|      0|       0|     0|       0|       0|       1|     0|\"There were three...| authorities coul...|\"\"\"Arsonists Blam...|000 Roosevelt Hig...|\"\" Los Angeles Times|             April 9|           1970.\"|\"\"\"2 School Build...|                 000|\"\" Los Angeles Times|              0.0|                  1.0|                5.0|                2.0|[0.0,1.0,5.0,2.0,...|[-1.0006074653851...|       1.0|\n",
            "|1.97004E11| 1970|     4|  19|    217|United States|     1|North America|  New York|New York City|40.697132| -73.931351|          1|       0|\"4/19/1970: Unkno...|    1|    1|    1|        0|       0|      0|      0|          3|   Bombing/Explosion|        3|              Police|          23|Police Patrol (in...|New York Police D...|Corrections Offic...|    217|United States|  Black Nationalists|To coerce the gov...|         0|   -99|     -99|        6|   Explosives|          28|        Dynamite/TNT|Lighted cigarette...|    0|      0|       0|     3|       3|       0|       0|     0|The lighted cigar...|\"Committee on Gov...|               Civil| and Criminal Dis...|\"\" U.S. Governmen...|            August 6|           1970.\"|\"\"\"Bomb Found at ...|  Dynamite at a Bank|   \"\" New York Times|              0.0|                  0.0|                3.0|                0.0|[0.0,0.0,3.0,0.0,...|[-1.0000162884344...|       1.0|\n",
            "+----------+-----+------+----+-------+-------------+------+-------------+----------+-------------+---------+-----------+-----------+--------+--------------------+-----+-----+-----+---------+--------+-------+-------+-----------+--------------------+---------+--------------------+------------+--------------------+--------------------+--------------------+-------+-------------+--------------------+--------------------+----------+------+--------+---------+-------------+------------+--------------------+--------------------+-----+-------+--------+------+--------+--------+--------+------+--------------------+--------------------+--------------------+--------------------+--------------------+--------------------+-----------------+--------------------+--------------------+--------------------+-----------------+---------------------+-------------------+-------------------+--------------------+--------------------+----------+\n",
            "only showing top 10 rows\n",
            "\n"
          ]
        }
      ]
    },
    {
      "cell_type": "code",
      "source": [
        "#to help the efficiency of the models by selecting only the columns"
      ],
      "metadata": {
        "id": "Mh-3FKOt2iK1"
      },
      "execution_count": null,
      "outputs": []
    },
    {
      "cell_type": "code",
      "source": [
        "# Select the columns\n",
        "selected_columns = [\"iyear\", \"imonth\", \"country_txt\", \"region_txt\", \"city\", \"attacktype1_txt\",\n",
        "                    \"targtype1_txt\", \"targsubtype1_txt\", \"target1\", \"natlty1_txt\", \"gname\", \"motive\", \"success\"]\n",
        "\n",
        "df = df.select(selected_columns)\n",
        "df.show()"
      ],
      "metadata": {
        "id": "NtFv-zCp2iOo",
        "colab": {
          "base_uri": "https://localhost:8080/"
        },
        "outputId": "5b4ce0a0-9322-49c3-b36a-fd8f3201b0c2"
      },
      "execution_count": null,
      "outputs": [
        {
          "output_type": "stream",
          "name": "stdout",
          "text": [
            "+-----+------+-------------+-------------+--------------+--------------------+--------------------+--------------------+--------------------+-------------+--------------------+--------------------+-------+\n",
            "|iyear|imonth|  country_txt|   region_txt|          city|     attacktype1_txt|       targtype1_txt|    targsubtype1_txt|             target1|  natlty1_txt|               gname|              motive|success|\n",
            "+-----+------+-------------+-------------+--------------+--------------------+--------------------+--------------------+--------------------+-------------+--------------------+--------------------+-------+\n",
            "| 1970|     1|United States|North America|         Cairo|       Armed Assault|              Police|Police Building (...|Cairo Police Head...|United States|  Black Nationalists|To protest the Ca...|      1|\n",
            "| 1970|     1|United States|North America|       Madison|Facility/Infrastr...|            Military|Military Recruiti...|R.O.T.C. offices ...|United States|     New Year's Gang|To protest the Wa...|      1|\n",
            "| 1970|     1|United States|North America|       Madison|Facility/Infrastr...|Government (General)|Government Buildi...|Selective Service...|United States|     New Year's Gang|To protest the Wa...|      1|\n",
            "| 1970|     1|United States|North America|   Rio Piedras|Facility/Infrastr...|            Business|Retail/Grocery/Ba...|       Baker's Store|United States|Armed Commandos o...|To protest United...|      1|\n",
            "| 1970|     1|United States|North America| New York City|   Bombing/Explosion|Educational Insti...|School/University...|James Madison Hig...|United States|  Black Nationalists|Suspected motives...|      1|\n",
            "| 1970|     1|United States|North America|   Jersey City|Facility/Infrastr...|Violent Political...|Party Office/Faci...|        Headquarters|United States|    White extremists|Intimidate the Bl...|      1|\n",
            "| 1970|     1|United States|North America| New York City|       Armed Assault|              Police|Police Security F...|New York Police O...|United States|  Black Nationalists|      To kill police|      1|\n",
            "| 1970|     1|United States|North America|    West Point|   Bombing/Explosion|Government (General)|Judge/Attorney/Court|Clay County Court...|United States|  Black Nationalists|African American ...|      1|\n",
            "| 1970|     2|United States|North America|      Portland|Facility/Infrastr...|Government (General)|Government Buildi...|Selective Service...|United States| Left-Wing Militants|Protest and sabot...|      1|\n",
            "| 1970|     2|United States|North America|         Cairo|       Armed Assault|              Police|Police Building (...|Illinois State Po...|United States|  Black Nationalists|To protest police...|      1|\n",
            "| 1970|     2|United States|North America|        Denver|   Bombing/Explosion|      Transportation|Bus (excluding to...|Denver City Schoo...|United States|  Black Nationalists|Sabotage/protest ...|      1|\n",
            "| 1970|     2|United States|North America|       Seattle|   Bombing/Explosion|Government (General)|Politician or Pol...|           Fred Dore|United States|    White extremists|To intimidate/sho...|      1|\n",
            "| 1970|     2|United States|North America|        Dorado|Facility/Infrastr...|Government (General)|Government Buildi...|Selective Service...|United States|Armed Revolutiona...|To fight imperial...|      1|\n",
            "| 1970|     2|United States|North America|      Carolina|Facility/Infrastr...|            Business|        Hotel/Resort|      San Juan Hotel|  Puerto Rico|Armed Revolutiona...|To fight imperial...|      1|\n",
            "| 1970|     2|United States|North America| New York City|   Bombing/Explosion|            Business|Multinational Cor...|Brooklyn General ...|United States|Armed Revolutiona...|To fight imperial...|      1|\n",
            "| 1970|     2|United States|North America| New York City|   Bombing/Explosion|            Business|Multinational Cor...|General Electric ...|United States|Armed Revolutiona...|To fight imperial...|      0|\n",
            "| 1970|     2|United States|North America|      Berkeley|   Bombing/Explosion|              Police|Police Building (...|Berkeley Police S...|United States|  Black Nationalists|To intimidate the...|      1|\n",
            "| 1970|     2|United States|North America|        Eugene|Facility/Infrastr...|            Military|Military Recruiti...|R.O.T.C. storage ...|United States|    Student Radicals|To protest the Un...|      1|\n",
            "| 1970|     2|United States|North America|        Ithaca|Facility/Infrastr...|Educational Insti...|School/University...|Dormitory housing...|United States|    White extremists|To intimidate the...|      1|\n",
            "| 1970|     2|United States|North America|Prairie du Sac|   Bombing/Explosion|           Utilities|         Electricity|Wisconsin Power a...|United States|     New Year's Gang|To sabotage the B...|      0|\n",
            "+-----+------+-------------+-------------+--------------+--------------------+--------------------+--------------------+--------------------+-------------+--------------------+--------------------+-------+\n",
            "only showing top 20 rows\n",
            "\n"
          ]
        }
      ]
    },
    {
      "cell_type": "code",
      "source": [
        "from pyspark.ml import Pipeline\n",
        "from pyspark.ml.feature import StringIndexer, OneHotEncoder\n",
        "\n",
        "# Columns to be indexed and encoded\n",
        "categorical_columns = [\"country_txt\", \"region_txt\", \"city\", \"attacktype1_txt\", \"targtype1_txt\",\n",
        "                       \"targsubtype1_txt\", \"target1\", \"natlty1_txt\", \"gname\", \"motive\"]\n",
        "\n",
        "indexers = [StringIndexer(inputCol=column, outputCol=column+\"_index\", handleInvalid=\"keep\") for column in categorical_columns]\n",
        "encoders = [OneHotEncoder(inputCol=column+\"_index\", outputCol=column+\"_ohe\") for column in categorical_columns]\n",
        "\n",
        "pipeline = Pipeline(stages=indexers + encoders)\n",
        "\n",
        "df_encoded = pipeline.fit(df).transform(df)\n"
      ],
      "metadata": {
        "id": "1mdpC6g82iSQ"
      },
      "execution_count": null,
      "outputs": []
    },
    {
      "cell_type": "code",
      "source": [
        "#To create a vector containing all the feature columns to feed into the model"
      ],
      "metadata": {
        "id": "A06seHKmd8jh"
      },
      "execution_count": null,
      "outputs": []
    },
    {
      "cell_type": "code",
      "source": [
        "from pyspark.ml.feature import VectorAssembler\n",
        "\n",
        "input_cols = [\"iyear\", \"imonth\"] + [column+\"_ohe\" for column in categorical_columns]\n",
        "assembler = VectorAssembler(inputCols=input_cols, outputCol=\"features\")\n",
        "\n",
        "df_encoded = assembler.transform(df_encoded)\n"
      ],
      "metadata": {
        "id": "a3wn4h89d8pU"
      },
      "execution_count": null,
      "outputs": []
    },
    {
      "cell_type": "code",
      "source": [
        "# Splitting of the dataset into training and testing set\n",
        "train_data, test_data = df_encoded.randomSplit([0.7, 0.3], seed=42)\n"
      ],
      "metadata": {
        "id": "9fZo3eDOd8rG"
      },
      "execution_count": null,
      "outputs": []
    },
    {
      "cell_type": "code",
      "source": [
        "#To define the Logistic Regression model\n",
        "lr = LogisticRegression(labelCol=\"success\", featuresCol=\"features\")\n",
        "\n",
        "# Training the LR model\n",
        "lr_model = lr.fit(train_data)\n",
        "\n",
        "#To make predictions\n",
        "predictions_lr = lr_model.transform(test_data)\n",
        "\n",
        "# Selection of (prediction, true label) and compute test error\n",
        "evaluator_lr = BinaryClassificationEvaluator(rawPredictionCol=\"rawPrediction\", labelCol=\"success\", metricName=\"areaUnderROC\")\n",
        "\n",
        "# Evaluation of the model and to print the AUC\n",
        "auc_lr = evaluator_lr.evaluate(predictions_lr)\n",
        "print(f\"AUC of Logistic Regression model is: {auc_lr}\")\n",
        "\n",
        "# Show the first 10 rows of the predictions DataFrame\n",
        "predictions_lr.show(10)\n"
      ],
      "metadata": {
        "colab": {
          "base_uri": "https://localhost:8080/"
        },
        "id": "9o5ylHHtepLt",
        "outputId": "9a48aa47-04f4-4d9f-d796-6e78b92be786"
      },
      "execution_count": null,
      "outputs": [
        {
          "output_type": "stream",
          "name": "stdout",
          "text": [
            "AUC of Logistic Regression model is: 0.816400580551524\n",
            "+-----+------+-------------+-------------+-----------+--------------------+--------------------+--------------------+--------------------+-------------+--------------------+--------------------+-------+-----------------+----------------+----------+---------------------+-------------------+----------------------+-------------+-----------------+-----------+------------+---------------+--------------+----------------+-------------------+-----------------+--------------------+-----------------+---------------+----------------+-----------------+--------------------+--------------------+--------------------+----------+\n",
            "|iyear|imonth|  country_txt|   region_txt|       city|     attacktype1_txt|       targtype1_txt|    targsubtype1_txt|             target1|  natlty1_txt|               gname|              motive|success|country_txt_index|region_txt_index|city_index|attacktype1_txt_index|targtype1_txt_index|targsubtype1_txt_index|target1_index|natlty1_txt_index|gname_index|motive_index|country_txt_ohe|region_txt_ohe|        city_ohe|attacktype1_txt_ohe|targtype1_txt_ohe|targsubtype1_txt_ohe|      target1_ohe|natlty1_txt_ohe|       gname_ohe|       motive_ohe|            features|       rawPrediction|         probability|prediction|\n",
            "+-----+------+-------------+-------------+-----------+--------------------+--------------------+--------------------+--------------------+-------------+--------------------+--------------------+-------+-----------------+----------------+----------+---------------------+-------------------+----------------------+-------------+-----------------+-----------+------------+---------------+--------------+----------------+-------------------+-----------------+--------------------+-----------------+---------------+----------------+-----------------+--------------------+--------------------+--------------------+----------+\n",
            "| 1970|     1|United States|North America|    Madison|Facility/Infrastr...|Government (General)|Government Buildi...|Selective Service...|United States|     New Year's Gang|To protest the Wa...|      1|              0.0|             0.0|      19.0|                  1.0|                2.0|                   2.0|        495.0|              0.0|       40.0|        17.0| (38,[0],[1.0])|(11,[0],[1.0])|(413,[19],[1.0])|      (8,[1],[1.0])|   (19,[2],[1.0])|      (74,[2],[1.0])|(610,[495],[1.0])| (50,[0],[1.0])|(124,[40],[1.0])| (352,[17],[1.0])|(1701,[0,1,2,40,7...|[-111.34376427931...|[4.40572696427093...|       1.0|\n",
            "| 1970|     1|United States|North America|Rio Piedras|Facility/Infrastr...|            Business|Retail/Grocery/Ba...|       Baker's Store|United States|Armed Commandos o...|To protest United...|      1|              0.0|             0.0|       6.0|                  1.0|                0.0|                   7.0|        156.0|              0.0|       22.0|        78.0| (38,[0],[1.0])|(11,[0],[1.0])| (413,[6],[1.0])|      (8,[1],[1.0])|   (19,[0],[1.0])|      (74,[7],[1.0])|(610,[156],[1.0])| (50,[0],[1.0])|(124,[22],[1.0])| (352,[78],[1.0])|(1701,[0,1,2,40,5...|[-107.19788666143...|[2.78323162966976...|       1.0|\n",
            "| 1970|     2|United States|North America|   Berkeley|   Bombing/Explosion|              Police|Police Building (...|Berkeley Police S...|United States|  Black Nationalists|To intimidate the...|      1|              0.0|             0.0|      26.0|                  0.0|                3.0|                   6.0|        172.0|              0.0|        5.0|       271.0| (38,[0],[1.0])|(11,[0],[1.0])|(413,[26],[1.0])|      (8,[0],[1.0])|   (19,[3],[1.0])|      (74,[6],[1.0])|(610,[172],[1.0])| (50,[0],[1.0])| (124,[5],[1.0])|(352,[271],[1.0])|(1701,[0,1,2,40,7...|[-148.08103049467...|[4.88906241503601...|       1.0|\n",
            "| 1970|     2|United States|North America|    Boulder|   Bombing/Explosion|Educational Insti...|School/University...|Institute of Beha...|United States|    Student Radicals|Protesting schola...|      1|              0.0|             0.0|      47.0|                  0.0|                5.0|                   4.0|        311.0|              0.0|        9.0|       172.0| (38,[0],[1.0])|(11,[0],[1.0])|(413,[47],[1.0])|      (8,[0],[1.0])|   (19,[5],[1.0])|      (74,[4],[1.0])|(610,[311],[1.0])| (50,[0],[1.0])| (124,[9],[1.0])|(352,[172],[1.0])|(1701,[0,1,2,40,9...|[-107.92194273364...|[1.34926046287966...|       1.0|\n",
            "| 1970|     2|United States|North America|     Denver|   Bombing/Explosion|      Transportation|Bus (excluding to...|Denver City Schoo...|United States|  Black Nationalists|Sabotage/protest ...|      1|              0.0|             0.0|      28.0|                  0.0|                9.0|                  29.0|        232.0|              0.0|        5.0|       177.0| (38,[0],[1.0])|(11,[0],[1.0])|(413,[28],[1.0])|      (8,[0],[1.0])|   (19,[9],[1.0])|     (74,[29],[1.0])|(610,[232],[1.0])| (50,[0],[1.0])| (124,[5],[1.0])|(352,[177],[1.0])|(1701,[0,1,2,40,7...|[-154.14150362649...|[1.14076330497045...|       1.0|\n",
            "| 1970|     2|United States|North America|     Dorado|Facility/Infrastr...|Government (General)|Government Buildi...|Selective Service...|United States|Armed Revolutiona...|To fight imperial...|      1|              0.0|             0.0|      52.0|                  1.0|                2.0|                   2.0|        499.0|              0.0|       18.0|        24.0| (38,[0],[1.0])|(11,[0],[1.0])|(413,[52],[1.0])|      (8,[1],[1.0])|   (19,[2],[1.0])|      (74,[2],[1.0])|(610,[499],[1.0])| (50,[0],[1.0])|(124,[18],[1.0])| (352,[24],[1.0])|(1701,[0,1,2,40,1...|[-109.06329376483...|[4.30936559212945...|       1.0|\n",
            "| 1970|     2|United States|North America|     Eugene|Facility/Infrastr...|            Military|Military Recruiti...|R.O.T.C. storage ...|United States|    Student Radicals|To protest the Un...|      1|              0.0|             0.0|      31.0|                  1.0|                4.0|                   9.0|        473.0|              0.0|        9.0|       307.0| (38,[0],[1.0])|(11,[0],[1.0])|(413,[31],[1.0])|      (8,[1],[1.0])|   (19,[4],[1.0])|      (74,[9],[1.0])|(610,[473],[1.0])| (50,[0],[1.0])| (124,[9],[1.0])|(352,[307],[1.0])|(1701,[0,1,2,40,8...|[-46.379175925000...|[7.20741983390497...|       1.0|\n",
            "| 1970|     2|United States|North America|   Portland|Facility/Infrastr...|Government (General)|Government Buildi...|Selective Service...|United States| Left-Wing Militants|Protest and sabot...|      1|              0.0|             0.0|      13.0|                  1.0|                2.0|                   2.0|        497.0|              0.0|        0.0|         4.0| (38,[0],[1.0])|(11,[0],[1.0])|(413,[13],[1.0])|      (8,[1],[1.0])|   (19,[2],[1.0])|      (74,[2],[1.0])|(610,[497],[1.0])| (50,[0],[1.0])| (124,[0],[1.0])|  (352,[4],[1.0])|(1701,[0,1,2,40,6...|[-116.74070014973...|[1.99598885251778...|       1.0|\n",
            "| 1970|     2|United States|North America|    Seattle|   Bombing/Explosion|Government (General)|Politician or Pol...|           Fred Dore|United States|    White extremists|To intimidate/sho...|      1|              0.0|             0.0|      14.0|                  0.0|                2.0|                  12.0|        278.0|              0.0|        3.0|        25.0| (38,[0],[1.0])|(11,[0],[1.0])|(413,[14],[1.0])|      (8,[0],[1.0])|   (19,[2],[1.0])|     (74,[12],[1.0])|(610,[278],[1.0])| (50,[0],[1.0])| (124,[3],[1.0])| (352,[25],[1.0])|(1701,[0,1,2,40,6...|[-112.83099595769...|[9.95682944404738...|       1.0|\n",
            "| 1970|     3|United States|North America|    Boulder|   Bombing/Explosion|            Military|Military Recruiti...|Air Force R.O.T.C...|United States|    Student Radicals|Protest the Vietn...|      1|              0.0|             0.0|      47.0|                  0.0|                4.0|                   9.0|         56.0|              0.0|        9.0|        62.0| (38,[0],[1.0])|(11,[0],[1.0])|(413,[47],[1.0])|      (8,[0],[1.0])|   (19,[4],[1.0])|      (74,[9],[1.0])| (610,[56],[1.0])| (50,[0],[1.0])| (124,[9],[1.0])| (352,[62],[1.0])|(1701,[0,1,2,40,9...|[-95.029367240921...|[5.36130097489776...|       1.0|\n",
            "+-----+------+-------------+-------------+-----------+--------------------+--------------------+--------------------+--------------------+-------------+--------------------+--------------------+-------+-----------------+----------------+----------+---------------------+-------------------+----------------------+-------------+-----------------+-----------+------------+---------------+--------------+----------------+-------------------+-----------------+--------------------+-----------------+---------------+----------------+-----------------+--------------------+--------------------+--------------------+----------+\n",
            "only showing top 10 rows\n",
            "\n"
          ]
        }
      ]
    },
    {
      "cell_type": "code",
      "source": [
        "from pyspark.ml.classification import LinearSVC\n",
        "\n",
        "#To define the Support Vector Machine model\n",
        "svm = LinearSVC(labelCol=\"success\", featuresCol=\"features\")\n",
        "\n",
        "#Training of the model\n",
        "svm_model = svm.fit(train_data)\n",
        "\n",
        "#To make predictions\n",
        "predictions_svm = svm_model.transform(test_data)\n",
        "\n",
        "#Selection of (prediction, true label) and compute test error\n",
        "evaluator_svm = BinaryClassificationEvaluator(rawPredictionCol=\"rawPrediction\", labelCol=\"success\", metricName=\"areaUnderROC\")\n",
        "\n",
        "#Evaluationof the model and printing the AUC\n",
        "auc_svm = evaluator_svm.evaluate(predictions_svm)\n",
        "print(f\"AUC of SVM model is: {auc_svm}\")\n",
        "\n",
        "#Showing the first 10 rows of the predictions DataFrame\n",
        "predictions_svm.show(10)\n"
      ],
      "metadata": {
        "colab": {
          "base_uri": "https://localhost:8080/"
        },
        "id": "uJ-Va__kepQh",
        "outputId": "e3d9a7a5-6251-4617-d1c2-b47cda66dce6"
      },
      "execution_count": null,
      "outputs": [
        {
          "output_type": "stream",
          "name": "stdout",
          "text": [
            "AUC of SVM model is: 0.7070633768746977\n",
            "+-----+------+-------------+-------------+-----------+--------------------+--------------------+--------------------+--------------------+-------------+--------------------+--------------------+-------+-----------------+----------------+----------+---------------------+-------------------+----------------------+-------------+-----------------+-----------+------------+---------------+--------------+----------------+-------------------+-----------------+--------------------+-----------------+---------------+----------------+-----------------+--------------------+--------------------+----------+\n",
            "|iyear|imonth|  country_txt|   region_txt|       city|     attacktype1_txt|       targtype1_txt|    targsubtype1_txt|             target1|  natlty1_txt|               gname|              motive|success|country_txt_index|region_txt_index|city_index|attacktype1_txt_index|targtype1_txt_index|targsubtype1_txt_index|target1_index|natlty1_txt_index|gname_index|motive_index|country_txt_ohe|region_txt_ohe|        city_ohe|attacktype1_txt_ohe|targtype1_txt_ohe|targsubtype1_txt_ohe|      target1_ohe|natlty1_txt_ohe|       gname_ohe|       motive_ohe|            features|       rawPrediction|prediction|\n",
            "+-----+------+-------------+-------------+-----------+--------------------+--------------------+--------------------+--------------------+-------------+--------------------+--------------------+-------+-----------------+----------------+----------+---------------------+-------------------+----------------------+-------------+-----------------+-----------+------------+---------------+--------------+----------------+-------------------+-----------------+--------------------+-----------------+---------------+----------------+-----------------+--------------------+--------------------+----------+\n",
            "| 1970|     1|United States|North America|    Madison|Facility/Infrastr...|Government (General)|Government Buildi...|Selective Service...|United States|     New Year's Gang|To protest the Wa...|      1|              0.0|             0.0|      19.0|                  1.0|                2.0|                   2.0|        495.0|              0.0|       40.0|        17.0| (38,[0],[1.0])|(11,[0],[1.0])|(413,[19],[1.0])|      (8,[1],[1.0])|   (19,[2],[1.0])|      (74,[2],[1.0])|(610,[495],[1.0])| (50,[0],[1.0])|(124,[40],[1.0])| (352,[17],[1.0])|(1701,[0,1,2,40,7...|[-1.2712223255568...|       1.0|\n",
            "| 1970|     1|United States|North America|Rio Piedras|Facility/Infrastr...|            Business|Retail/Grocery/Ba...|       Baker's Store|United States|Armed Commandos o...|To protest United...|      1|              0.0|             0.0|       6.0|                  1.0|                0.0|                   7.0|        156.0|              0.0|       22.0|        78.0| (38,[0],[1.0])|(11,[0],[1.0])| (413,[6],[1.0])|      (8,[1],[1.0])|   (19,[0],[1.0])|      (74,[7],[1.0])|(610,[156],[1.0])| (50,[0],[1.0])|(124,[22],[1.0])| (352,[78],[1.0])|(1701,[0,1,2,40,5...|[-1.5705602602740...|       1.0|\n",
            "| 1970|     2|United States|North America|   Berkeley|   Bombing/Explosion|              Police|Police Building (...|Berkeley Police S...|United States|  Black Nationalists|To intimidate the...|      1|              0.0|             0.0|      26.0|                  0.0|                3.0|                   6.0|        172.0|              0.0|        5.0|       271.0| (38,[0],[1.0])|(11,[0],[1.0])|(413,[26],[1.0])|      (8,[0],[1.0])|   (19,[3],[1.0])|      (74,[6],[1.0])|(610,[172],[1.0])| (50,[0],[1.0])| (124,[5],[1.0])|(352,[271],[1.0])|(1701,[0,1,2,40,7...|[-1.7445905204591...|       1.0|\n",
            "| 1970|     2|United States|North America|    Boulder|   Bombing/Explosion|Educational Insti...|School/University...|Institute of Beha...|United States|    Student Radicals|Protesting schola...|      1|              0.0|             0.0|      47.0|                  0.0|                5.0|                   4.0|        311.0|              0.0|        9.0|       172.0| (38,[0],[1.0])|(11,[0],[1.0])|(413,[47],[1.0])|      (8,[0],[1.0])|   (19,[5],[1.0])|      (74,[4],[1.0])|(610,[311],[1.0])| (50,[0],[1.0])| (124,[9],[1.0])|(352,[172],[1.0])|(1701,[0,1,2,40,9...|[-1.2876730708796...|       1.0|\n",
            "| 1970|     2|United States|North America|     Denver|   Bombing/Explosion|      Transportation|Bus (excluding to...|Denver City Schoo...|United States|  Black Nationalists|Sabotage/protest ...|      1|              0.0|             0.0|      28.0|                  0.0|                9.0|                  29.0|        232.0|              0.0|        5.0|       177.0| (38,[0],[1.0])|(11,[0],[1.0])|(413,[28],[1.0])|      (8,[0],[1.0])|   (19,[9],[1.0])|     (74,[29],[1.0])|(610,[232],[1.0])| (50,[0],[1.0])| (124,[5],[1.0])|(352,[177],[1.0])|(1701,[0,1,2,40,7...|[-1.7135357766670...|       1.0|\n",
            "| 1970|     2|United States|North America|     Dorado|Facility/Infrastr...|Government (General)|Government Buildi...|Selective Service...|United States|Armed Revolutiona...|To fight imperial...|      1|              0.0|             0.0|      52.0|                  1.0|                2.0|                   2.0|        499.0|              0.0|       18.0|        24.0| (38,[0],[1.0])|(11,[0],[1.0])|(413,[52],[1.0])|      (8,[1],[1.0])|   (19,[2],[1.0])|      (74,[2],[1.0])|(610,[499],[1.0])| (50,[0],[1.0])|(124,[18],[1.0])| (352,[24],[1.0])|(1701,[0,1,2,40,1...|[-1.1913616070140...|       1.0|\n",
            "| 1970|     2|United States|North America|     Eugene|Facility/Infrastr...|            Military|Military Recruiti...|R.O.T.C. storage ...|United States|    Student Radicals|To protest the Un...|      1|              0.0|             0.0|      31.0|                  1.0|                4.0|                   9.0|        473.0|              0.0|        9.0|       307.0| (38,[0],[1.0])|(11,[0],[1.0])|(413,[31],[1.0])|      (8,[1],[1.0])|   (19,[4],[1.0])|      (74,[9],[1.0])|(610,[473],[1.0])| (50,[0],[1.0])| (124,[9],[1.0])|(352,[307],[1.0])|(1701,[0,1,2,40,8...|[0.79186652749382...|       0.0|\n",
            "| 1970|     2|United States|North America|   Portland|Facility/Infrastr...|Government (General)|Government Buildi...|Selective Service...|United States| Left-Wing Militants|Protest and sabot...|      1|              0.0|             0.0|      13.0|                  1.0|                2.0|                   2.0|        497.0|              0.0|        0.0|         4.0| (38,[0],[1.0])|(11,[0],[1.0])|(413,[13],[1.0])|      (8,[1],[1.0])|   (19,[2],[1.0])|      (74,[2],[1.0])|(610,[497],[1.0])| (50,[0],[1.0])| (124,[0],[1.0])|  (352,[4],[1.0])|(1701,[0,1,2,40,6...|[-1.2852737436426...|       1.0|\n",
            "| 1970|     2|United States|North America|    Seattle|   Bombing/Explosion|Government (General)|Politician or Pol...|           Fred Dore|United States|    White extremists|To intimidate/sho...|      1|              0.0|             0.0|      14.0|                  0.0|                2.0|                  12.0|        278.0|              0.0|        3.0|        25.0| (38,[0],[1.0])|(11,[0],[1.0])|(413,[14],[1.0])|      (8,[0],[1.0])|   (19,[2],[1.0])|     (74,[12],[1.0])|(610,[278],[1.0])| (50,[0],[1.0])| (124,[3],[1.0])| (352,[25],[1.0])|(1701,[0,1,2,40,6...|[-1.2773387870524...|       1.0|\n",
            "| 1970|     3|United States|North America|    Boulder|   Bombing/Explosion|            Military|Military Recruiti...|Air Force R.O.T.C...|United States|    Student Radicals|Protest the Vietn...|      1|              0.0|             0.0|      47.0|                  0.0|                4.0|                   9.0|         56.0|              0.0|        9.0|        62.0| (38,[0],[1.0])|(11,[0],[1.0])|(413,[47],[1.0])|      (8,[0],[1.0])|   (19,[4],[1.0])|      (74,[9],[1.0])| (610,[56],[1.0])| (50,[0],[1.0])| (124,[9],[1.0])| (352,[62],[1.0])|(1701,[0,1,2,40,9...|[-1.2662587165408...|       1.0|\n",
            "+-----+------+-------------+-------------+-----------+--------------------+--------------------+--------------------+--------------------+-------------+--------------------+--------------------+-------+-----------------+----------------+----------+---------------------+-------------------+----------------------+-------------+-----------------+-----------+------------+---------------+--------------+----------------+-------------------+-----------------+--------------------+-----------------+---------------+----------------+-----------------+--------------------+--------------------+----------+\n",
            "only showing top 10 rows\n",
            "\n"
          ]
        }
      ]
    },
    {
      "cell_type": "code",
      "source": [
        "from pyspark.ml.classification import RandomForestClassifier\n",
        "\n",
        "# Define the Random Forest model\n",
        "rf = RandomForestClassifier(labelCol=\"success\", featuresCol=\"features\", numTrees=100)\n",
        "\n",
        "# Train the model\n",
        "rf_model = rf.fit(train_data)\n",
        "\n",
        "# Make predictions\n",
        "predictions_rf = rf_model.transform(test_data)\n",
        "\n",
        "# Select (prediction, true label) and compute test error\n",
        "evaluator_rf = BinaryClassificationEvaluator(rawPredictionCol=\"rawPrediction\", labelCol=\"success\", metricName=\"areaUnderROC\")\n",
        "\n",
        "# Evaluate the model and print the AUC\n",
        "auc_rf = evaluator_rf.evaluate(predictions_rf)\n",
        "print(f\"AUC of Random Forest model is: {auc_rf}\")\n",
        "\n",
        "# Show the first 10 rows of the predictions DataFrame\n",
        "predictions_rf.show(10)\n"
      ],
      "metadata": {
        "colab": {
          "base_uri": "https://localhost:8080/"
        },
        "id": "9Jfe5d_zepUt",
        "outputId": "ecbd73a4-1cc6-4c8a-cf19-aef30bf05a6a"
      },
      "execution_count": null,
      "outputs": [
        {
          "output_type": "stream",
          "name": "stdout",
          "text": [
            "AUC of Random Forest model is: 0.813014029995162\n",
            "+-----+------+-------------+-------------+-----------+--------------------+--------------------+--------------------+--------------------+-------------+--------------------+--------------------+-------+-----------------+----------------+----------+---------------------+-------------------+----------------------+-------------+-----------------+-----------+------------+---------------+--------------+----------------+-------------------+-----------------+--------------------+-----------------+---------------+----------------+-----------------+--------------------+--------------------+--------------------+----------+\n",
            "|iyear|imonth|  country_txt|   region_txt|       city|     attacktype1_txt|       targtype1_txt|    targsubtype1_txt|             target1|  natlty1_txt|               gname|              motive|success|country_txt_index|region_txt_index|city_index|attacktype1_txt_index|targtype1_txt_index|targsubtype1_txt_index|target1_index|natlty1_txt_index|gname_index|motive_index|country_txt_ohe|region_txt_ohe|        city_ohe|attacktype1_txt_ohe|targtype1_txt_ohe|targsubtype1_txt_ohe|      target1_ohe|natlty1_txt_ohe|       gname_ohe|       motive_ohe|            features|       rawPrediction|         probability|prediction|\n",
            "+-----+------+-------------+-------------+-----------+--------------------+--------------------+--------------------+--------------------+-------------+--------------------+--------------------+-------+-----------------+----------------+----------+---------------------+-------------------+----------------------+-------------+-----------------+-----------+------------+---------------+--------------+----------------+-------------------+-----------------+--------------------+-----------------+---------------+----------------+-----------------+--------------------+--------------------+--------------------+----------+\n",
            "| 1970|     1|United States|North America|    Madison|Facility/Infrastr...|Government (General)|Government Buildi...|Selective Service...|United States|     New Year's Gang|To protest the Wa...|      1|              0.0|             0.0|      19.0|                  1.0|                2.0|                   2.0|        495.0|              0.0|       40.0|        17.0| (38,[0],[1.0])|(11,[0],[1.0])|(413,[19],[1.0])|      (8,[1],[1.0])|   (19,[2],[1.0])|      (74,[2],[1.0])|(610,[495],[1.0])| (50,[0],[1.0])|(124,[40],[1.0])| (352,[17],[1.0])|(1701,[0,1,2,40,7...|[15.3568036397583...|[0.15356803639758...|       1.0|\n",
            "| 1970|     1|United States|North America|Rio Piedras|Facility/Infrastr...|            Business|Retail/Grocery/Ba...|       Baker's Store|United States|Armed Commandos o...|To protest United...|      1|              0.0|             0.0|       6.0|                  1.0|                0.0|                   7.0|        156.0|              0.0|       22.0|        78.0| (38,[0],[1.0])|(11,[0],[1.0])| (413,[6],[1.0])|      (8,[1],[1.0])|   (19,[0],[1.0])|      (74,[7],[1.0])|(610,[156],[1.0])| (50,[0],[1.0])|(124,[22],[1.0])| (352,[78],[1.0])|(1701,[0,1,2,40,5...|[15.9638873249601...|[0.15963887324960...|       1.0|\n",
            "| 1970|     2|United States|North America|   Berkeley|   Bombing/Explosion|              Police|Police Building (...|Berkeley Police S...|United States|  Black Nationalists|To intimidate the...|      1|              0.0|             0.0|      26.0|                  0.0|                3.0|                   6.0|        172.0|              0.0|        5.0|       271.0| (38,[0],[1.0])|(11,[0],[1.0])|(413,[26],[1.0])|      (8,[0],[1.0])|   (19,[3],[1.0])|      (74,[6],[1.0])|(610,[172],[1.0])| (50,[0],[1.0])| (124,[5],[1.0])|(352,[271],[1.0])|(1701,[0,1,2,40,7...|[14.0279739866998...|[0.14027973986699...|       1.0|\n",
            "| 1970|     2|United States|North America|    Boulder|   Bombing/Explosion|Educational Insti...|School/University...|Institute of Beha...|United States|    Student Radicals|Protesting schola...|      1|              0.0|             0.0|      47.0|                  0.0|                5.0|                   4.0|        311.0|              0.0|        9.0|       172.0| (38,[0],[1.0])|(11,[0],[1.0])|(413,[47],[1.0])|      (8,[0],[1.0])|   (19,[5],[1.0])|      (74,[4],[1.0])|(610,[311],[1.0])| (50,[0],[1.0])| (124,[9],[1.0])|(352,[172],[1.0])|(1701,[0,1,2,40,9...|[14.5647777455152...|[0.14564777745515...|       1.0|\n",
            "| 1970|     2|United States|North America|     Denver|   Bombing/Explosion|      Transportation|Bus (excluding to...|Denver City Schoo...|United States|  Black Nationalists|Sabotage/protest ...|      1|              0.0|             0.0|      28.0|                  0.0|                9.0|                  29.0|        232.0|              0.0|        5.0|       177.0| (38,[0],[1.0])|(11,[0],[1.0])|(413,[28],[1.0])|      (8,[0],[1.0])|   (19,[9],[1.0])|     (74,[29],[1.0])|(610,[232],[1.0])| (50,[0],[1.0])| (124,[5],[1.0])|(352,[177],[1.0])|(1701,[0,1,2,40,7...|[14.0251030830936...|[0.14025103083093...|       1.0|\n",
            "| 1970|     2|United States|North America|     Dorado|Facility/Infrastr...|Government (General)|Government Buildi...|Selective Service...|United States|Armed Revolutiona...|To fight imperial...|      1|              0.0|             0.0|      52.0|                  1.0|                2.0|                   2.0|        499.0|              0.0|       18.0|        24.0| (38,[0],[1.0])|(11,[0],[1.0])|(413,[52],[1.0])|      (8,[1],[1.0])|   (19,[2],[1.0])|      (74,[2],[1.0])|(610,[499],[1.0])| (50,[0],[1.0])|(124,[18],[1.0])| (352,[24],[1.0])|(1701,[0,1,2,40,1...|[14.1019822107963...|[0.14101982210796...|       1.0|\n",
            "| 1970|     2|United States|North America|     Eugene|Facility/Infrastr...|            Military|Military Recruiti...|R.O.T.C. storage ...|United States|    Student Radicals|To protest the Un...|      1|              0.0|             0.0|      31.0|                  1.0|                4.0|                   9.0|        473.0|              0.0|        9.0|       307.0| (38,[0],[1.0])|(11,[0],[1.0])|(413,[31],[1.0])|      (8,[1],[1.0])|   (19,[4],[1.0])|      (74,[9],[1.0])|(610,[473],[1.0])| (50,[0],[1.0])| (124,[9],[1.0])|(352,[307],[1.0])|(1701,[0,1,2,40,8...|[14.6995968686972...|[0.14699596868697...|       1.0|\n",
            "| 1970|     2|United States|North America|   Portland|Facility/Infrastr...|Government (General)|Government Buildi...|Selective Service...|United States| Left-Wing Militants|Protest and sabot...|      1|              0.0|             0.0|      13.0|                  1.0|                2.0|                   2.0|        497.0|              0.0|        0.0|         4.0| (38,[0],[1.0])|(11,[0],[1.0])|(413,[13],[1.0])|      (8,[1],[1.0])|   (19,[2],[1.0])|      (74,[2],[1.0])|(610,[497],[1.0])| (50,[0],[1.0])| (124,[0],[1.0])|  (352,[4],[1.0])|(1701,[0,1,2,40,6...|[14.7858373457914...|[0.14785837345791...|       1.0|\n",
            "| 1970|     2|United States|North America|    Seattle|   Bombing/Explosion|Government (General)|Politician or Pol...|           Fred Dore|United States|    White extremists|To intimidate/sho...|      1|              0.0|             0.0|      14.0|                  0.0|                2.0|                  12.0|        278.0|              0.0|        3.0|        25.0| (38,[0],[1.0])|(11,[0],[1.0])|(413,[14],[1.0])|      (8,[0],[1.0])|   (19,[2],[1.0])|     (74,[12],[1.0])|(610,[278],[1.0])| (50,[0],[1.0])| (124,[3],[1.0])| (352,[25],[1.0])|(1701,[0,1,2,40,6...|[15.3711421031887...|[0.15371142103188...|       1.0|\n",
            "| 1970|     3|United States|North America|    Boulder|   Bombing/Explosion|            Military|Military Recruiti...|Air Force R.O.T.C...|United States|    Student Radicals|Protest the Vietn...|      1|              0.0|             0.0|      47.0|                  0.0|                4.0|                   9.0|         56.0|              0.0|        9.0|        62.0| (38,[0],[1.0])|(11,[0],[1.0])|(413,[47],[1.0])|      (8,[0],[1.0])|   (19,[4],[1.0])|      (74,[9],[1.0])| (610,[56],[1.0])| (50,[0],[1.0])| (124,[9],[1.0])| (352,[62],[1.0])|(1701,[0,1,2,40,9...|[14.5757856387112...|[0.14575785638711...|       1.0|\n",
            "+-----+------+-------------+-------------+-----------+--------------------+--------------------+--------------------+--------------------+-------------+--------------------+--------------------+-------+-----------------+----------------+----------+---------------------+-------------------+----------------------+-------------+-----------------+-----------+------------+---------------+--------------+----------------+-------------------+-----------------+--------------------+-----------------+---------------+----------------+-----------------+--------------------+--------------------+--------------------+----------+\n",
            "only showing top 10 rows\n",
            "\n"
          ]
        }
      ]
    },
    {
      "cell_type": "code",
      "source": [
        "from pyspark.ml.feature import VectorAssembler\n",
        "from pyspark.ml.classification import NaiveBayes\n",
        "from pyspark.ml.evaluation import BinaryClassificationEvaluator\n",
        "\n",
        "feature_columns = [\"country_txt_ohe\", \"region_txt_ohe\", \"city_ohe\", \"attacktype1_txt_ohe\",\n",
        "                   \"targtype1_txt_ohe\", \"targsubtype1_txt_ohe\", \"target1_ohe\",\n",
        "                   \"natlty1_txt_ohe\", \"gname_ohe\", \"motive_ohe\"]\n",
        "\n",
        "#Using the VectorAssembler to combine the feature columns into a single vector column\n",
        "assembler = VectorAssembler(inputCols=feature_columns, outputCol=\"features_vector\")\n",
        "train_data_assembled = assembler.transform(train_data)\n",
        "test_data_assembled = assembler.transform(test_data)\n",
        "\n",
        "#Setting up the Naive Bayes model\n",
        "nb = NaiveBayes(featuresCol=\"features_vector\", labelCol=\"success\", predictionCol=\"prediction\")\n",
        "\n",
        "#Training the Naive Bayes model\n",
        "nb_model = nb.fit(train_data_assembled)\n",
        "\n",
        "#To Predict on the test set\n",
        "predictions = nb_model.transform(test_data_assembled)\n",
        "\n",
        "#Performance Evaluation of ROC AUC\n",
        "evaluator = BinaryClassificationEvaluator(labelCol=\"success\", metricName=\"areaUnderROC\")\n",
        "roc_auc = evaluator.evaluate(predictions)\n",
        "\n",
        "#To show the output\n",
        "\n",
        "print(f\"ROC AUC: {roc_auc}\")\n"
      ],
      "metadata": {
        "colab": {
          "base_uri": "https://localhost:8080/"
        },
        "id": "pglu_puGpKM9",
        "outputId": "e99008ed-b982-4fb7-e2a2-211ce8c4c288"
      },
      "execution_count": null,
      "outputs": [
        {
          "output_type": "stream",
          "name": "stdout",
          "text": [
            "ROC AUC: 0.32873730043541366\n"
          ]
        }
      ]
    },
    {
      "cell_type": "code",
      "source": [
        "from pyspark.ml.feature import PCA, VectorAssembler\n",
        "\n",
        "# List of encoded features\n",
        "feature_columns = [column+\"_ohe\" for column in categorical_columns]\n",
        "\n",
        "# Assembling encoded features into a single vector column\n",
        "assembler = VectorAssembler(inputCols=feature_columns, outputCol=\"features_vector\")\n",
        "df_assembled = assembler.transform(df_encoded)\n",
        "\n",
        "# Applying PCA\n",
        "num_principal_components = 13\n",
        "pca = PCA(k=num_principal_components, inputCol=\"features_vector\", outputCol=\"pca_features\")\n",
        "pca_model = pca.fit(df_assembled)\n",
        "df_pca = pca_model.transform(df_assembled)\n",
        "\n",
        "# Show transformed data\n",
        "df_pca.select(\"pca_features\").show()\n"
      ],
      "metadata": {
        "id": "twHOFoVZepc6",
        "colab": {
          "base_uri": "https://localhost:8080/"
        },
        "outputId": "23d44c94-3ff2-47f6-d97b-92e958e5d5a9"
      },
      "execution_count": null,
      "outputs": [
        {
          "output_type": "stream",
          "name": "stdout",
          "text": [
            "+--------------------+\n",
            "|        pca_features|\n",
            "+--------------------+\n",
            "|[-1.2112337161875...|\n",
            "|[-1.5188752712147...|\n",
            "|[-1.5926528820907...|\n",
            "|[-1.6359463675041...|\n",
            "|[-1.4494800091229...|\n",
            "|[-1.5364736781838...|\n",
            "|[-1.2744952660037...|\n",
            "|[-1.3572971155669...|\n",
            "|[-1.6713152057417...|\n",
            "|[-1.2093709792562...|\n",
            "|[-1.3086171397441...|\n",
            "|[-1.3526140105896...|\n",
            "|[-1.5929733674757...|\n",
            "|[-1.1862500690598...|\n",
            "|[-1.4556383886623...|\n",
            "|[-1.4556383886623...|\n",
            "|[-1.2601146225341...|\n",
            "|[-1.5373263739132...|\n",
            "|[-1.6057361622243...|\n",
            "|[-1.2872894370008...|\n",
            "+--------------------+\n",
            "only showing top 20 rows\n",
            "\n"
          ]
        }
      ]
    },
    {
      "cell_type": "code",
      "source": [],
      "metadata": {
        "id": "x6916rwUepjK"
      },
      "execution_count": null,
      "outputs": []
    }
  ]
}